{
 "cells": [
  {
   "cell_type": "code",
   "execution_count": 1,
   "id": "42149f14",
   "metadata": {
    "_cell_guid": "b1076dfc-b9ad-4769-8c92-a6c4dae69d19",
    "_uuid": "8f2839f25d086af736a60e9eeb907d3b93b6e0e5",
    "execution": {
     "iopub.execute_input": "2023-06-28T20:15:16.839313Z",
     "iopub.status.busy": "2023-06-28T20:15:16.838817Z",
     "iopub.status.idle": "2023-06-28T20:15:16.864683Z",
     "shell.execute_reply": "2023-06-28T20:15:16.863598Z"
    },
    "papermill": {
     "duration": 0.039769,
     "end_time": "2023-06-28T20:15:16.867685",
     "exception": false,
     "start_time": "2023-06-28T20:15:16.827916",
     "status": "completed"
    },
    "tags": []
   },
   "outputs": [
    {
     "name": "stdout",
     "output_type": "stream",
     "text": [
      "/kaggle/input/fertility-rate-per-country/API_SP.DYN.TFRT.IN_DS2_en_csv_v2_5455118.csv\n"
     ]
    }
   ],
   "source": [
    "# This Python 3 environment comes with many helpful analytics libraries installed\n",
    "# It is defined by the kaggle/python Docker image: https://github.com/kaggle/docker-python\n",
    "# For example, here's several helpful packages to load\n",
    "\n",
    "import numpy as np # linear algebra\n",
    "import pandas as pd # data processing, CSV file I/O (e.g. pd.read_csv)\n",
    "\n",
    "# Input data files are available in the read-only \"../input/\" directory\n",
    "# For example, running this (by clicking run or pressing Shift+Enter) will list all files under the input directory\n",
    "\n",
    "import os\n",
    "for dirname, _, filenames in os.walk('/kaggle/input'):\n",
    "    for filename in filenames:\n",
    "        print(os.path.join(dirname, filename))\n",
    "\n",
    "# You can write up to 20GB to the current directory (/kaggle/working/) that gets preserved as output when you create a version using \"Save & Run All\" \n",
    "# You can also write temporary files to /kaggle/temp/, but they won't be saved outside of the current session"
   ]
  },
  {
   "cell_type": "code",
   "execution_count": 2,
   "id": "fb2e352c",
   "metadata": {
    "execution": {
     "iopub.execute_input": "2023-06-28T20:15:16.886772Z",
     "iopub.status.busy": "2023-06-28T20:15:16.886078Z",
     "iopub.status.idle": "2023-06-28T20:15:16.922692Z",
     "shell.execute_reply": "2023-06-28T20:15:16.921411Z"
    },
    "papermill": {
     "duration": 0.049557,
     "end_time": "2023-06-28T20:15:16.925820",
     "exception": false,
     "start_time": "2023-06-28T20:15:16.876263",
     "status": "completed"
    },
    "tags": []
   },
   "outputs": [],
   "source": [
    "df = pd.read_csv('/kaggle/input/fertility-rate-per-country/API_SP.DYN.TFRT.IN_DS2_en_csv_v2_5455118.csv')"
   ]
  },
  {
   "cell_type": "code",
   "execution_count": 3,
   "id": "a85e94c3",
   "metadata": {
    "execution": {
     "iopub.execute_input": "2023-06-28T20:15:16.944642Z",
     "iopub.status.busy": "2023-06-28T20:15:16.944205Z",
     "iopub.status.idle": "2023-06-28T20:15:16.990619Z",
     "shell.execute_reply": "2023-06-28T20:15:16.989020Z"
    },
    "papermill": {
     "duration": 0.059062,
     "end_time": "2023-06-28T20:15:16.993374",
     "exception": false,
     "start_time": "2023-06-28T20:15:16.934312",
     "status": "completed"
    },
    "tags": []
   },
   "outputs": [
    {
     "data": {
      "text/html": [
       "<div>\n",
       "<style scoped>\n",
       "    .dataframe tbody tr th:only-of-type {\n",
       "        vertical-align: middle;\n",
       "    }\n",
       "\n",
       "    .dataframe tbody tr th {\n",
       "        vertical-align: top;\n",
       "    }\n",
       "\n",
       "    .dataframe thead th {\n",
       "        text-align: right;\n",
       "    }\n",
       "</style>\n",
       "<table border=\"1\" class=\"dataframe\">\n",
       "  <thead>\n",
       "    <tr style=\"text-align: right;\">\n",
       "      <th></th>\n",
       "      <th>Country Name</th>\n",
       "      <th>Country Code</th>\n",
       "      <th>1960</th>\n",
       "      <th>1961</th>\n",
       "      <th>1962</th>\n",
       "      <th>1963</th>\n",
       "      <th>1964</th>\n",
       "      <th>1965</th>\n",
       "      <th>1966</th>\n",
       "      <th>1967</th>\n",
       "      <th>...</th>\n",
       "      <th>2013</th>\n",
       "      <th>2014</th>\n",
       "      <th>2015</th>\n",
       "      <th>2016</th>\n",
       "      <th>2017</th>\n",
       "      <th>2018</th>\n",
       "      <th>2019</th>\n",
       "      <th>2020</th>\n",
       "      <th>2021</th>\n",
       "      <th>2022</th>\n",
       "    </tr>\n",
       "  </thead>\n",
       "  <tbody>\n",
       "    <tr>\n",
       "      <th>0</th>\n",
       "      <td>Aruba</td>\n",
       "      <td>ABW</td>\n",
       "      <td>4.820000</td>\n",
       "      <td>4.655000</td>\n",
       "      <td>4.471000</td>\n",
       "      <td>4.271000</td>\n",
       "      <td>4.059000</td>\n",
       "      <td>3.842000</td>\n",
       "      <td>3.625000</td>\n",
       "      <td>3.417000</td>\n",
       "      <td>...</td>\n",
       "      <td>2.117000</td>\n",
       "      <td>2.148000</td>\n",
       "      <td>1.972000</td>\n",
       "      <td>1.953000</td>\n",
       "      <td>1.839000</td>\n",
       "      <td>1.587000</td>\n",
       "      <td>1.486000</td>\n",
       "      <td>1.325000</td>\n",
       "      <td>1.180000</td>\n",
       "      <td>NaN</td>\n",
       "    </tr>\n",
       "    <tr>\n",
       "      <th>1</th>\n",
       "      <td>Africa Eastern and Southern</td>\n",
       "      <td>AFE</td>\n",
       "      <td>6.724125</td>\n",
       "      <td>6.742752</td>\n",
       "      <td>6.762930</td>\n",
       "      <td>6.778712</td>\n",
       "      <td>6.788420</td>\n",
       "      <td>6.800322</td>\n",
       "      <td>6.810571</td>\n",
       "      <td>6.818612</td>\n",
       "      <td>...</td>\n",
       "      <td>4.808821</td>\n",
       "      <td>4.739863</td>\n",
       "      <td>4.677619</td>\n",
       "      <td>4.615671</td>\n",
       "      <td>4.570410</td>\n",
       "      <td>4.527707</td>\n",
       "      <td>4.482899</td>\n",
       "      <td>4.416902</td>\n",
       "      <td>4.354710</td>\n",
       "      <td>NaN</td>\n",
       "    </tr>\n",
       "    <tr>\n",
       "      <th>2</th>\n",
       "      <td>Afghanistan</td>\n",
       "      <td>AFG</td>\n",
       "      <td>7.282000</td>\n",
       "      <td>7.284000</td>\n",
       "      <td>7.292000</td>\n",
       "      <td>7.302000</td>\n",
       "      <td>7.304000</td>\n",
       "      <td>7.305000</td>\n",
       "      <td>7.320000</td>\n",
       "      <td>7.339000</td>\n",
       "      <td>...</td>\n",
       "      <td>5.696000</td>\n",
       "      <td>5.560000</td>\n",
       "      <td>5.405000</td>\n",
       "      <td>5.262000</td>\n",
       "      <td>5.129000</td>\n",
       "      <td>5.002000</td>\n",
       "      <td>4.870000</td>\n",
       "      <td>4.750000</td>\n",
       "      <td>4.643000</td>\n",
       "      <td>NaN</td>\n",
       "    </tr>\n",
       "    <tr>\n",
       "      <th>3</th>\n",
       "      <td>Africa Western and Central</td>\n",
       "      <td>AFW</td>\n",
       "      <td>6.458448</td>\n",
       "      <td>6.471518</td>\n",
       "      <td>6.491826</td>\n",
       "      <td>6.506088</td>\n",
       "      <td>6.525355</td>\n",
       "      <td>6.541102</td>\n",
       "      <td>6.564967</td>\n",
       "      <td>6.589806</td>\n",
       "      <td>...</td>\n",
       "      <td>5.506350</td>\n",
       "      <td>5.437493</td>\n",
       "      <td>5.385059</td>\n",
       "      <td>5.328709</td>\n",
       "      <td>5.255345</td>\n",
       "      <td>5.186319</td>\n",
       "      <td>5.118932</td>\n",
       "      <td>5.049329</td>\n",
       "      <td>4.978662</td>\n",
       "      <td>NaN</td>\n",
       "    </tr>\n",
       "    <tr>\n",
       "      <th>4</th>\n",
       "      <td>Angola</td>\n",
       "      <td>AGO</td>\n",
       "      <td>6.708000</td>\n",
       "      <td>6.790000</td>\n",
       "      <td>6.872000</td>\n",
       "      <td>6.954000</td>\n",
       "      <td>7.036000</td>\n",
       "      <td>7.116000</td>\n",
       "      <td>7.194000</td>\n",
       "      <td>7.267000</td>\n",
       "      <td>...</td>\n",
       "      <td>5.953000</td>\n",
       "      <td>5.864000</td>\n",
       "      <td>5.774000</td>\n",
       "      <td>5.686000</td>\n",
       "      <td>5.600000</td>\n",
       "      <td>5.519000</td>\n",
       "      <td>5.442000</td>\n",
       "      <td>5.371000</td>\n",
       "      <td>5.304000</td>\n",
       "      <td>NaN</td>\n",
       "    </tr>\n",
       "  </tbody>\n",
       "</table>\n",
       "<p>5 rows × 65 columns</p>\n",
       "</div>"
      ],
      "text/plain": [
       "                  Country Name Country Code      1960      1961      1962  \\\n",
       "0                        Aruba          ABW  4.820000  4.655000  4.471000   \n",
       "1  Africa Eastern and Southern          AFE  6.724125  6.742752  6.762930   \n",
       "2                  Afghanistan          AFG  7.282000  7.284000  7.292000   \n",
       "3   Africa Western and Central          AFW  6.458448  6.471518  6.491826   \n",
       "4                       Angola          AGO  6.708000  6.790000  6.872000   \n",
       "\n",
       "       1963      1964      1965      1966      1967  ...      2013      2014  \\\n",
       "0  4.271000  4.059000  3.842000  3.625000  3.417000  ...  2.117000  2.148000   \n",
       "1  6.778712  6.788420  6.800322  6.810571  6.818612  ...  4.808821  4.739863   \n",
       "2  7.302000  7.304000  7.305000  7.320000  7.339000  ...  5.696000  5.560000   \n",
       "3  6.506088  6.525355  6.541102  6.564967  6.589806  ...  5.506350  5.437493   \n",
       "4  6.954000  7.036000  7.116000  7.194000  7.267000  ...  5.953000  5.864000   \n",
       "\n",
       "       2015      2016      2017      2018      2019      2020      2021  2022  \n",
       "0  1.972000  1.953000  1.839000  1.587000  1.486000  1.325000  1.180000   NaN  \n",
       "1  4.677619  4.615671  4.570410  4.527707  4.482899  4.416902  4.354710   NaN  \n",
       "2  5.405000  5.262000  5.129000  5.002000  4.870000  4.750000  4.643000   NaN  \n",
       "3  5.385059  5.328709  5.255345  5.186319  5.118932  5.049329  4.978662   NaN  \n",
       "4  5.774000  5.686000  5.600000  5.519000  5.442000  5.371000  5.304000   NaN  \n",
       "\n",
       "[5 rows x 65 columns]"
      ]
     },
     "execution_count": 3,
     "metadata": {},
     "output_type": "execute_result"
    }
   ],
   "source": [
    "df.head()"
   ]
  },
  {
   "cell_type": "code",
   "execution_count": 4,
   "id": "e55f8649",
   "metadata": {
    "execution": {
     "iopub.execute_input": "2023-06-28T20:15:17.013061Z",
     "iopub.status.busy": "2023-06-28T20:15:17.012454Z",
     "iopub.status.idle": "2023-06-28T20:15:17.020380Z",
     "shell.execute_reply": "2023-06-28T20:15:17.019313Z"
    },
    "papermill": {
     "duration": 0.020388,
     "end_time": "2023-06-28T20:15:17.022743",
     "exception": false,
     "start_time": "2023-06-28T20:15:17.002355",
     "status": "completed"
    },
    "tags": []
   },
   "outputs": [
    {
     "data": {
      "text/plain": [
       "Index(['Country Name', 'Country Code', '1960', '1961', '1962', '1963', '1964',\n",
       "       '1965', '1966', '1967', '1968', '1969', '1970', '1971', '1972', '1973',\n",
       "       '1974', '1975', '1976', '1977', '1978', '1979', '1980', '1981', '1982',\n",
       "       '1983', '1984', '1985', '1986', '1987', '1988', '1989', '1990', '1991',\n",
       "       '1992', '1993', '1994', '1995', '1996', '1997', '1998', '1999', '2000',\n",
       "       '2001', '2002', '2003', '2004', '2005', '2006', '2007', '2008', '2009',\n",
       "       '2010', '2011', '2012', '2013', '2014', '2015', '2016', '2017', '2018',\n",
       "       '2019', '2020', '2021', '2022'],\n",
       "      dtype='object')"
      ]
     },
     "execution_count": 4,
     "metadata": {},
     "output_type": "execute_result"
    }
   ],
   "source": [
    "df.columns"
   ]
  },
  {
   "cell_type": "code",
   "execution_count": 5,
   "id": "30eba3d1",
   "metadata": {
    "execution": {
     "iopub.execute_input": "2023-06-28T20:15:17.043969Z",
     "iopub.status.busy": "2023-06-28T20:15:17.043563Z",
     "iopub.status.idle": "2023-06-28T20:15:17.072712Z",
     "shell.execute_reply": "2023-06-28T20:15:17.071565Z"
    },
    "papermill": {
     "duration": 0.042111,
     "end_time": "2023-06-28T20:15:17.075354",
     "exception": false,
     "start_time": "2023-06-28T20:15:17.033243",
     "status": "completed"
    },
    "tags": []
   },
   "outputs": [
    {
     "data": {
      "text/html": [
       "<div>\n",
       "<style scoped>\n",
       "    .dataframe tbody tr th:only-of-type {\n",
       "        vertical-align: middle;\n",
       "    }\n",
       "\n",
       "    .dataframe tbody tr th {\n",
       "        vertical-align: top;\n",
       "    }\n",
       "\n",
       "    .dataframe thead th {\n",
       "        text-align: right;\n",
       "    }\n",
       "</style>\n",
       "<table border=\"1\" class=\"dataframe\">\n",
       "  <thead>\n",
       "    <tr style=\"text-align: right;\">\n",
       "      <th></th>\n",
       "      <th>Country Name</th>\n",
       "      <th>Country Code</th>\n",
       "      <th>1960</th>\n",
       "      <th>1961</th>\n",
       "      <th>1962</th>\n",
       "      <th>1963</th>\n",
       "      <th>1964</th>\n",
       "      <th>1965</th>\n",
       "      <th>1966</th>\n",
       "      <th>1967</th>\n",
       "      <th>...</th>\n",
       "      <th>2013</th>\n",
       "      <th>2014</th>\n",
       "      <th>2015</th>\n",
       "      <th>2016</th>\n",
       "      <th>2017</th>\n",
       "      <th>2018</th>\n",
       "      <th>2019</th>\n",
       "      <th>2020</th>\n",
       "      <th>2021</th>\n",
       "      <th>2022</th>\n",
       "    </tr>\n",
       "  </thead>\n",
       "  <tbody>\n",
       "    <tr>\n",
       "      <th>29</th>\n",
       "      <td>Brazil</td>\n",
       "      <td>BRA</td>\n",
       "      <td>6.061</td>\n",
       "      <td>6.044</td>\n",
       "      <td>5.995</td>\n",
       "      <td>5.929</td>\n",
       "      <td>5.818</td>\n",
       "      <td>5.675</td>\n",
       "      <td>5.529</td>\n",
       "      <td>5.368</td>\n",
       "      <td>...</td>\n",
       "      <td>1.748</td>\n",
       "      <td>1.767</td>\n",
       "      <td>1.777</td>\n",
       "      <td>1.709</td>\n",
       "      <td>1.736</td>\n",
       "      <td>1.749</td>\n",
       "      <td>1.703</td>\n",
       "      <td>1.649</td>\n",
       "      <td>1.641</td>\n",
       "      <td>NaN</td>\n",
       "    </tr>\n",
       "  </tbody>\n",
       "</table>\n",
       "<p>1 rows × 65 columns</p>\n",
       "</div>"
      ],
      "text/plain": [
       "   Country Name Country Code   1960   1961   1962   1963   1964   1965   1966  \\\n",
       "29       Brazil          BRA  6.061  6.044  5.995  5.929  5.818  5.675  5.529   \n",
       "\n",
       "     1967  ...   2013   2014   2015   2016   2017   2018   2019   2020   2021  \\\n",
       "29  5.368  ...  1.748  1.767  1.777  1.709  1.736  1.749  1.703  1.649  1.641   \n",
       "\n",
       "    2022  \n",
       "29   NaN  \n",
       "\n",
       "[1 rows x 65 columns]"
      ]
     },
     "execution_count": 5,
     "metadata": {},
     "output_type": "execute_result"
    }
   ],
   "source": [
    "df[df['Country Name'] == 'Brazil']"
   ]
  },
  {
   "cell_type": "markdown",
   "id": "c64ad796",
   "metadata": {
    "papermill": {
     "duration": 0.008999,
     "end_time": "2023-06-28T20:15:17.093765",
     "exception": false,
     "start_time": "2023-06-28T20:15:17.084766",
     "status": "completed"
    },
    "tags": []
   },
   "source": [
    "# Curiosidade: taxa de fecundidade nos países do BRICS(menos Russia)"
   ]
  },
  {
   "cell_type": "markdown",
   "id": "2d4799a6",
   "metadata": {
    "papermill": {
     "duration": 0.008901,
     "end_time": "2023-06-28T20:15:17.112127",
     "exception": false,
     "start_time": "2023-06-28T20:15:17.103226",
     "status": "completed"
    },
    "tags": []
   },
   "source": [
    "**Os dados do país não estavam disponíveis\n",
    "**"
   ]
  },
  {
   "cell_type": "code",
   "execution_count": 6,
   "id": "3b225205",
   "metadata": {
    "execution": {
     "iopub.execute_input": "2023-06-28T20:15:17.133035Z",
     "iopub.status.busy": "2023-06-28T20:15:17.131951Z",
     "iopub.status.idle": "2023-06-28T20:15:17.143269Z",
     "shell.execute_reply": "2023-06-28T20:15:17.142492Z"
    },
    "papermill": {
     "duration": 0.023975,
     "end_time": "2023-06-28T20:15:17.145476",
     "exception": false,
     "start_time": "2023-06-28T20:15:17.121501",
     "status": "completed"
    },
    "tags": []
   },
   "outputs": [],
   "source": [
    "brics = df[df['Country Name'].isin(['Brazil', 'China', 'India', 'South Africa'])].drop('Country Code', axis=1)"
   ]
  },
  {
   "cell_type": "code",
   "execution_count": 7,
   "id": "d35e3f6a",
   "metadata": {
    "execution": {
     "iopub.execute_input": "2023-06-28T20:15:17.165830Z",
     "iopub.status.busy": "2023-06-28T20:15:17.164990Z",
     "iopub.status.idle": "2023-06-28T20:15:17.584183Z",
     "shell.execute_reply": "2023-06-28T20:15:17.583087Z"
    },
    "papermill": {
     "duration": 0.431732,
     "end_time": "2023-06-28T20:15:17.586489",
     "exception": false,
     "start_time": "2023-06-28T20:15:17.154757",
     "status": "completed"
    },
    "tags": []
   },
   "outputs": [
    {
     "data": {
      "text/plain": [
       "<Axes: >"
      ]
     },
     "execution_count": 7,
     "metadata": {},
     "output_type": "execute_result"
    },
    {
     "data": {
      "image/png": "[encoded data removed]",
      "text/plain": [
       "<Figure size 640x480 with 1 Axes>"
      ]
     },
     "metadata": {},
     "output_type": "display_data"
    }
   ],
   "source": [
    "brics.set_index('Country Name').T.plot()"
   ]
  },
  {
   "cell_type": "markdown",
   "id": "f91945cc",
   "metadata": {
    "papermill": {
     "duration": 0.0102,
     "end_time": "2023-06-28T20:15:17.606792",
     "exception": false,
     "start_time": "2023-06-28T20:15:17.596592",
     "status": "completed"
    },
    "tags": []
   },
   "source": [
    "# Separando os dados"
   ]
  },
  {
   "cell_type": "code",
   "execution_count": 8,
   "id": "21e80e27",
   "metadata": {
    "execution": {
     "iopub.execute_input": "2023-06-28T20:15:17.628341Z",
     "iopub.status.busy": "2023-06-28T20:15:17.627949Z",
     "iopub.status.idle": "2023-06-28T20:15:17.636773Z",
     "shell.execute_reply": "2023-06-28T20:15:17.635545Z"
    },
    "papermill": {
     "duration": 0.022476,
     "end_time": "2023-06-28T20:15:17.639168",
     "exception": false,
     "start_time": "2023-06-28T20:15:17.616692",
     "status": "completed"
    },
    "tags": []
   },
   "outputs": [],
   "source": [
    "filtered_df = df.dropna(subset=['2021'])\n",
    "X = filtered_df.drop(['Country Name', 'Country Code', '2021', '2022'], axis=1)\n",
    "y = filtered_df['2021']"
   ]
  },
  {
   "cell_type": "markdown",
   "id": "7c873868",
   "metadata": {
    "papermill": {
     "duration": 0.009945,
     "end_time": "2023-06-28T20:15:17.659255",
     "exception": false,
     "start_time": "2023-06-28T20:15:17.649310",
     "status": "completed"
    },
    "tags": []
   },
   "source": [
    "# Criando o Modelo"
   ]
  },
  {
   "cell_type": "code",
   "execution_count": 9,
   "id": "641ce20f",
   "metadata": {
    "execution": {
     "iopub.execute_input": "2023-06-28T20:15:17.681359Z",
     "iopub.status.busy": "2023-06-28T20:15:17.680923Z",
     "iopub.status.idle": "2023-06-28T20:15:19.630230Z",
     "shell.execute_reply": "2023-06-28T20:15:19.629016Z"
    },
    "papermill": {
     "duration": 1.9637,
     "end_time": "2023-06-28T20:15:19.633074",
     "exception": false,
     "start_time": "2023-06-28T20:15:17.669374",
     "status": "completed"
    },
    "tags": []
   },
   "outputs": [],
   "source": [
    "from sklearn.pipeline import Pipeline\n",
    "from sklearn.impute import SimpleImputer\n",
    "from sklearn.ensemble import RandomForestRegressor\n",
    "from xgboost import XGBRegressor\n",
    "from sklearn.model_selection import cross_val_score, train_test_split\n",
    "from sklearn.metrics import mean_absolute_error\n",
    "from sklearn.compose import ColumnTransformer"
   ]
  },
  {
   "cell_type": "code",
   "execution_count": 10,
   "id": "9ee9b289",
   "metadata": {
    "execution": {
     "iopub.execute_input": "2023-06-28T20:15:19.655585Z",
     "iopub.status.busy": "2023-06-28T20:15:19.655145Z",
     "iopub.status.idle": "2023-06-28T20:15:19.661161Z",
     "shell.execute_reply": "2023-06-28T20:15:19.660073Z"
    },
    "papermill": {
     "duration": 0.020106,
     "end_time": "2023-06-28T20:15:19.663525",
     "exception": false,
     "start_time": "2023-06-28T20:15:19.643419",
     "status": "completed"
    },
    "tags": []
   },
   "outputs": [],
   "source": [
    "imputer = SimpleImputer(strategy='constant')\n",
    "random_forest_regressor = RandomForestRegressor()\n",
    "pipeline_random_forest = Pipeline(steps=[\n",
    "    ('imputer', imputer),\n",
    "    ('model', random_forest_regressor)\n",
    "])"
   ]
  },
  {
   "cell_type": "markdown",
   "id": "bf16d907",
   "metadata": {
    "papermill": {
     "duration": 0.009958,
     "end_time": "2023-06-28T20:15:19.683694",
     "exception": false,
     "start_time": "2023-06-28T20:15:19.673736",
     "status": "completed"
    },
    "tags": []
   },
   "source": [
    "# Avaliando o modelo com Cross-Validation"
   ]
  },
  {
   "cell_type": "code",
   "execution_count": 11,
   "id": "d2df6331",
   "metadata": {
    "execution": {
     "iopub.execute_input": "2023-06-28T20:15:19.705690Z",
     "iopub.status.busy": "2023-06-28T20:15:19.705287Z",
     "iopub.status.idle": "2023-06-28T20:15:22.829750Z",
     "shell.execute_reply": "2023-06-28T20:15:22.828600Z"
    },
    "papermill": {
     "duration": 3.13881,
     "end_time": "2023-06-28T20:15:22.832668",
     "exception": false,
     "start_time": "2023-06-28T20:15:19.693858",
     "status": "completed"
    },
    "tags": []
   },
   "outputs": [],
   "source": [
    "scores = -1 * cross_val_score(pipeline_random_forest, X, y, cv=5, scoring='neg_mean_absolute_error')"
   ]
  },
  {
   "cell_type": "code",
   "execution_count": 12,
   "id": "e147517b",
   "metadata": {
    "execution": {
     "iopub.execute_input": "2023-06-28T20:15:22.855583Z",
     "iopub.status.busy": "2023-06-28T20:15:22.855127Z",
     "iopub.status.idle": "2023-06-28T20:15:22.862533Z",
     "shell.execute_reply": "2023-06-28T20:15:22.861319Z"
    },
    "papermill": {
     "duration": 0.021488,
     "end_time": "2023-06-28T20:15:22.864994",
     "exception": false,
     "start_time": "2023-06-28T20:15:22.843506",
     "status": "completed"
    },
    "tags": []
   },
   "outputs": [
    {
     "data": {
      "text/plain": [
       "0.0725536416429968"
      ]
     },
     "execution_count": 12,
     "metadata": {},
     "output_type": "execute_result"
    }
   ],
   "source": [
    "scores.mean()"
   ]
  },
  {
   "cell_type": "markdown",
   "id": "286538e4",
   "metadata": {
    "papermill": {
     "duration": 0.010349,
     "end_time": "2023-06-28T20:15:22.885929",
     "exception": false,
     "start_time": "2023-06-28T20:15:22.875580",
     "status": "completed"
    },
    "tags": []
   },
   "source": [
    "# Prevendo os valores de 2021"
   ]
  },
  {
   "cell_type": "code",
   "execution_count": 13,
   "id": "3a211035",
   "metadata": {
    "execution": {
     "iopub.execute_input": "2023-06-28T20:15:22.908739Z",
     "iopub.status.busy": "2023-06-28T20:15:22.908345Z",
     "iopub.status.idle": "2023-06-28T20:15:22.914815Z",
     "shell.execute_reply": "2023-06-28T20:15:22.913656Z"
    },
    "papermill": {
     "duration": 0.020537,
     "end_time": "2023-06-28T20:15:22.917179",
     "exception": false,
     "start_time": "2023-06-28T20:15:22.896642",
     "status": "completed"
    },
    "tags": []
   },
   "outputs": [],
   "source": [
    "X_train, X_test, y_train, y_test = train_test_split(X, y, train_size=0.8)"
   ]
  },
  {
   "cell_type": "code",
   "execution_count": 14,
   "id": "9d420000",
   "metadata": {
    "execution": {
     "iopub.execute_input": "2023-06-28T20:15:22.939462Z",
     "iopub.status.busy": "2023-06-28T20:15:22.939048Z",
     "iopub.status.idle": "2023-06-28T20:15:22.957737Z",
     "shell.execute_reply": "2023-06-28T20:15:22.956585Z"
    },
    "papermill": {
     "duration": 0.03301,
     "end_time": "2023-06-28T20:15:22.960458",
     "exception": false,
     "start_time": "2023-06-28T20:15:22.927448",
     "status": "completed"
    },
    "tags": []
   },
   "outputs": [],
   "source": [
    "xgb_regressor = XGBRegressor(n_estimators=1000, early_stopping_rounds=5, learning_rate=0.05)\n",
    "preprocessor = ColumnTransformer(transformers=[\n",
    "    ('imputer', imputer, X_train.columns)\n",
    "])\n",
    "preprocessor.fit_transform(X_train)\n",
    "X_test_trans = preprocessor.transform(X_test)\n",
    "fit_params = {\n",
    "    'model__eval_set': [(X_test_trans, y_test)],\n",
    "    'model__verbose': False\n",
    "}\n",
    "pipeline_xgboost = Pipeline(steps=[\n",
    "    ('preprocessor', preprocessor),\n",
    "    ('model', xgb_regressor)\n",
    "\n",
    "])"
   ]
  },
  {
   "cell_type": "code",
   "execution_count": 15,
   "id": "512b2d47",
   "metadata": {
    "execution": {
     "iopub.execute_input": "2023-06-28T20:15:22.982585Z",
     "iopub.status.busy": "2023-06-28T20:15:22.982154Z",
     "iopub.status.idle": "2023-06-28T20:15:23.301676Z",
     "shell.execute_reply": "2023-06-28T20:15:23.300444Z"
    },
    "papermill": {
     "duration": 0.333467,
     "end_time": "2023-06-28T20:15:23.304185",
     "exception": false,
     "start_time": "2023-06-28T20:15:22.970718",
     "status": "completed"
    },
    "tags": []
   },
   "outputs": [
    {
     "data": {
      "text/html": [
       "<style>#sk-container-id-1 {color: black;background-color: white;}#sk-container-id-1 pre{padding: 0;}#sk-container-id-1 div.sk-toggleable {background-color: white;}#sk-container-id-1 label.sk-toggleable__label {cursor: pointer;display: block;width: 100%;margin-bottom: 0;padding: 0.3em;box-sizing: border-box;text-align: center;}#sk-container-id-1 label.sk-toggleable__label-arrow:before {content: \"▸\";float: left;margin-right: 0.25em;color: #696969;}#sk-container-id-1 label.sk-toggleable__label-arrow:hover:before {color: black;}#sk-container-id-1 div.sk-estimator:hover label.sk-toggleable__label-arrow:before {color: black;}#sk-container-id-1 div.sk-toggleable__content {max-height: 0;max-width: 0;overflow: hidden;text-align: left;background-color: #f0f8ff;}#sk-container-id-1 div.sk-toggleable__content pre {margin: 0.2em;color: black;border-radius: 0.25em;background-color: #f0f8ff;}#sk-container-id-1 input.sk-toggleable__control:checked~div.sk-toggleable__content {max-height: 200px;max-width: 100%;overflow: auto;}#sk-container-id-1 input.sk-toggleable__control:checked~label.sk-toggleable__label-arrow:before {content: \"▾\";}#sk-container-id-1 div.sk-estimator input.sk-toggleable__control:checked~label.sk-toggleable__label {background-color: #d4ebff;}#sk-container-id-1 div.sk-label input.sk-toggleable__control:checked~label.sk-toggleable__label {background-color: #d4ebff;}#sk-container-id-1 input.sk-hidden--visually {border: 0;clip: rect(1px 1px 1px 1px);clip: rect(1px, 1px, 1px, 1px);height: 1px;margin: -1px;overflow: hidden;padding: 0;position: absolute;width: 1px;}#sk-container-id-1 div.sk-estimator {font-family: monospace;background-color: #f0f8ff;border: 1px dotted black;border-radius: 0.25em;box-sizing: border-box;margin-bottom: 0.5em;}#sk-container-id-1 div.sk-estimator:hover {background-color: #d4ebff;}#sk-container-id-1 div.sk-parallel-item::after {content: \"\";width: 100%;border-bottom: 1px solid gray;flex-grow: 1;}#sk-container-id-1 div.sk-label:hover label.sk-toggleable__label {background-color: #d4ebff;}#sk-container-id-1 div.sk-serial::before {content: \"\";position: absolute;border-left: 1px solid gray;box-sizing: border-box;top: 0;bottom: 0;left: 50%;z-index: 0;}#sk-container-id-1 div.sk-serial {display: flex;flex-direction: column;align-items: center;background-color: white;padding-right: 0.2em;padding-left: 0.2em;position: relative;}#sk-container-id-1 div.sk-item {position: relative;z-index: 1;}#sk-container-id-1 div.sk-parallel {display: flex;align-items: stretch;justify-content: center;background-color: white;position: relative;}#sk-container-id-1 div.sk-item::before, #sk-container-id-1 div.sk-parallel-item::before {content: \"\";position: absolute;border-left: 1px solid gray;box-sizing: border-box;top: 0;bottom: 0;left: 50%;z-index: -1;}#sk-container-id-1 div.sk-parallel-item {display: flex;flex-direction: column;z-index: 1;position: relative;background-color: white;}#sk-container-id-1 div.sk-parallel-item:first-child::after {align-self: flex-end;width: 50%;}#sk-container-id-1 div.sk-parallel-item:last-child::after {align-self: flex-start;width: 50%;}#sk-container-id-1 div.sk-parallel-item:only-child::after {width: 0;}#sk-container-id-1 div.sk-dashed-wrapped {border: 1px dashed gray;margin: 0 0.4em 0.5em 0.4em;box-sizing: border-box;padding-bottom: 0.4em;background-color: white;}#sk-container-id-1 div.sk-label label {font-family: monospace;font-weight: bold;display: inline-block;line-height: 1.2em;}#sk-container-id-1 div.sk-label-container {text-align: center;}#sk-container-id-1 div.sk-container {/* jupyter's `normalize.less` sets `[hidden] { display: none; }` but bootstrap.min.css set `[hidden] { display: none !important; }` so we also need the `!important` here to be able to override the default hidden behavior on the sphinx rendered scikit-learn.org. See: https://github.com/scikit-learn/scikit-learn/issues/21755 */display: inline-block !important;position: relative;}#sk-container-id-1 div.sk-text-repr-fallback {display: none;}</style><div id=\"sk-container-id-1\" class=\"sk-top-container\"><div class=\"sk-text-repr-fallback\"><pre>Pipeline(steps=[(&#x27;preprocessor&#x27;,\n",
       "                 ColumnTransformer(transformers=[(&#x27;imputer&#x27;,\n",
       "                                                  SimpleImputer(strategy=&#x27;constant&#x27;),\n",
       "                                                  Index([&#x27;1960&#x27;, &#x27;1961&#x27;, &#x27;1962&#x27;, &#x27;1963&#x27;, &#x27;1964&#x27;, &#x27;1965&#x27;, &#x27;1966&#x27;, &#x27;1967&#x27;, &#x27;1968&#x27;,\n",
       "       &#x27;1969&#x27;, &#x27;1970&#x27;, &#x27;1971&#x27;, &#x27;1972&#x27;, &#x27;1973&#x27;, &#x27;1974&#x27;, &#x27;1975&#x27;, &#x27;1976&#x27;, &#x27;1977&#x27;,\n",
       "       &#x27;1978&#x27;, &#x27;1979&#x27;, &#x27;1980&#x27;, &#x27;1981&#x27;, &#x27;1982&#x27;, &#x27;1983&#x27;, &#x27;1984&#x27;, &#x27;1985&#x27;, &#x27;1986&#x27;,\n",
       "       &#x27;1987&#x27;, &#x27;1988&#x27;, &#x27;1989&#x27;, &#x27;1990&#x27;, &#x27;1991&#x27;, &#x27;1992&#x27;, &#x27;1...\n",
       "                              feature_types=None, gamma=None, gpu_id=None,\n",
       "                              grow_policy=None, importance_type=None,\n",
       "                              interaction_constraints=None, learning_rate=0.05,\n",
       "                              max_bin=None, max_cat_threshold=None,\n",
       "                              max_cat_to_onehot=None, max_delta_step=None,\n",
       "                              max_depth=None, max_leaves=None,\n",
       "                              min_child_weight=None, missing=nan,\n",
       "                              monotone_constraints=None, n_estimators=1000,\n",
       "                              n_jobs=None, num_parallel_tree=None,\n",
       "                              predictor=None, random_state=None, ...))])</pre><b>In a Jupyter environment, please rerun this cell to show the HTML representation or trust the notebook. <br />On GitHub, the HTML representation is unable to render, please try loading this page with nbviewer.org.</b></div><div class=\"sk-container\" hidden><div class=\"sk-item sk-dashed-wrapped\"><div class=\"sk-label-container\"><div class=\"sk-label sk-toggleable\"><input class=\"sk-toggleable__control sk-hidden--visually\" id=\"sk-estimator-id-1\" type=\"checkbox\" ><label for=\"sk-estimator-id-1\" class=\"sk-toggleable__label sk-toggleable__label-arrow\">Pipeline</label><div class=\"sk-toggleable__content\"><pre>Pipeline(steps=[(&#x27;preprocessor&#x27;,\n",
       "                 ColumnTransformer(transformers=[(&#x27;imputer&#x27;,\n",
       "                                                  SimpleImputer(strategy=&#x27;constant&#x27;),\n",
       "                                                  Index([&#x27;1960&#x27;, &#x27;1961&#x27;, &#x27;1962&#x27;, &#x27;1963&#x27;, &#x27;1964&#x27;, &#x27;1965&#x27;, &#x27;1966&#x27;, &#x27;1967&#x27;, &#x27;1968&#x27;,\n",
       "       &#x27;1969&#x27;, &#x27;1970&#x27;, &#x27;1971&#x27;, &#x27;1972&#x27;, &#x27;1973&#x27;, &#x27;1974&#x27;, &#x27;1975&#x27;, &#x27;1976&#x27;, &#x27;1977&#x27;,\n",
       "       &#x27;1978&#x27;, &#x27;1979&#x27;, &#x27;1980&#x27;, &#x27;1981&#x27;, &#x27;1982&#x27;, &#x27;1983&#x27;, &#x27;1984&#x27;, &#x27;1985&#x27;, &#x27;1986&#x27;,\n",
       "       &#x27;1987&#x27;, &#x27;1988&#x27;, &#x27;1989&#x27;, &#x27;1990&#x27;, &#x27;1991&#x27;, &#x27;1992&#x27;, &#x27;1...\n",
       "                              feature_types=None, gamma=None, gpu_id=None,\n",
       "                              grow_policy=None, importance_type=None,\n",
       "                              interaction_constraints=None, learning_rate=0.05,\n",
       "                              max_bin=None, max_cat_threshold=None,\n",
       "                              max_cat_to_onehot=None, max_delta_step=None,\n",
       "                              max_depth=None, max_leaves=None,\n",
       "                              min_child_weight=None, missing=nan,\n",
       "                              monotone_constraints=None, n_estimators=1000,\n",
       "                              n_jobs=None, num_parallel_tree=None,\n",
       "                              predictor=None, random_state=None, ...))])</pre></div></div></div><div class=\"sk-serial\"><div class=\"sk-item sk-dashed-wrapped\"><div class=\"sk-label-container\"><div class=\"sk-label sk-toggleable\"><input class=\"sk-toggleable__control sk-hidden--visually\" id=\"sk-estimator-id-2\" type=\"checkbox\" ><label for=\"sk-estimator-id-2\" class=\"sk-toggleable__label sk-toggleable__label-arrow\">preprocessor: ColumnTransformer</label><div class=\"sk-toggleable__content\"><pre>ColumnTransformer(transformers=[(&#x27;imputer&#x27;, SimpleImputer(strategy=&#x27;constant&#x27;),\n",
       "                                 Index([&#x27;1960&#x27;, &#x27;1961&#x27;, &#x27;1962&#x27;, &#x27;1963&#x27;, &#x27;1964&#x27;, &#x27;1965&#x27;, &#x27;1966&#x27;, &#x27;1967&#x27;, &#x27;1968&#x27;,\n",
       "       &#x27;1969&#x27;, &#x27;1970&#x27;, &#x27;1971&#x27;, &#x27;1972&#x27;, &#x27;1973&#x27;, &#x27;1974&#x27;, &#x27;1975&#x27;, &#x27;1976&#x27;, &#x27;1977&#x27;,\n",
       "       &#x27;1978&#x27;, &#x27;1979&#x27;, &#x27;1980&#x27;, &#x27;1981&#x27;, &#x27;1982&#x27;, &#x27;1983&#x27;, &#x27;1984&#x27;, &#x27;1985&#x27;, &#x27;1986&#x27;,\n",
       "       &#x27;1987&#x27;, &#x27;1988&#x27;, &#x27;1989&#x27;, &#x27;1990&#x27;, &#x27;1991&#x27;, &#x27;1992&#x27;, &#x27;1993&#x27;, &#x27;1994&#x27;, &#x27;1995&#x27;,\n",
       "       &#x27;1996&#x27;, &#x27;1997&#x27;, &#x27;1998&#x27;, &#x27;1999&#x27;, &#x27;2000&#x27;, &#x27;2001&#x27;, &#x27;2002&#x27;, &#x27;2003&#x27;, &#x27;2004&#x27;,\n",
       "       &#x27;2005&#x27;, &#x27;2006&#x27;, &#x27;2007&#x27;, &#x27;2008&#x27;, &#x27;2009&#x27;, &#x27;2010&#x27;, &#x27;2011&#x27;, &#x27;2012&#x27;, &#x27;2013&#x27;,\n",
       "       &#x27;2014&#x27;, &#x27;2015&#x27;, &#x27;2016&#x27;, &#x27;2017&#x27;, &#x27;2018&#x27;, &#x27;2019&#x27;, &#x27;2020&#x27;],\n",
       "      dtype=&#x27;object&#x27;))])</pre></div></div></div><div class=\"sk-parallel\"><div class=\"sk-parallel-item\"><div class=\"sk-item\"><div class=\"sk-label-container\"><div class=\"sk-label sk-toggleable\"><input class=\"sk-toggleable__control sk-hidden--visually\" id=\"sk-estimator-id-3\" type=\"checkbox\" ><label for=\"sk-estimator-id-3\" class=\"sk-toggleable__label sk-toggleable__label-arrow\">imputer</label><div class=\"sk-toggleable__content\"><pre>Index([&#x27;1960&#x27;, &#x27;1961&#x27;, &#x27;1962&#x27;, &#x27;1963&#x27;, &#x27;1964&#x27;, &#x27;1965&#x27;, &#x27;1966&#x27;, &#x27;1967&#x27;, &#x27;1968&#x27;,\n",
       "       &#x27;1969&#x27;, &#x27;1970&#x27;, &#x27;1971&#x27;, &#x27;1972&#x27;, &#x27;1973&#x27;, &#x27;1974&#x27;, &#x27;1975&#x27;, &#x27;1976&#x27;, &#x27;1977&#x27;,\n",
       "       &#x27;1978&#x27;, &#x27;1979&#x27;, &#x27;1980&#x27;, &#x27;1981&#x27;, &#x27;1982&#x27;, &#x27;1983&#x27;, &#x27;1984&#x27;, &#x27;1985&#x27;, &#x27;1986&#x27;,\n",
       "       &#x27;1987&#x27;, &#x27;1988&#x27;, &#x27;1989&#x27;, &#x27;1990&#x27;, &#x27;1991&#x27;, &#x27;1992&#x27;, &#x27;1993&#x27;, &#x27;1994&#x27;, &#x27;1995&#x27;,\n",
       "       &#x27;1996&#x27;, &#x27;1997&#x27;, &#x27;1998&#x27;, &#x27;1999&#x27;, &#x27;2000&#x27;, &#x27;2001&#x27;, &#x27;2002&#x27;, &#x27;2003&#x27;, &#x27;2004&#x27;,\n",
       "       &#x27;2005&#x27;, &#x27;2006&#x27;, &#x27;2007&#x27;, &#x27;2008&#x27;, &#x27;2009&#x27;, &#x27;2010&#x27;, &#x27;2011&#x27;, &#x27;2012&#x27;, &#x27;2013&#x27;,\n",
       "       &#x27;2014&#x27;, &#x27;2015&#x27;, &#x27;2016&#x27;, &#x27;2017&#x27;, &#x27;2018&#x27;, &#x27;2019&#x27;, &#x27;2020&#x27;],\n",
       "      dtype=&#x27;object&#x27;)</pre></div></div></div><div class=\"sk-serial\"><div class=\"sk-item\"><div class=\"sk-estimator sk-toggleable\"><input class=\"sk-toggleable__control sk-hidden--visually\" id=\"sk-estimator-id-4\" type=\"checkbox\" ><label for=\"sk-estimator-id-4\" class=\"sk-toggleable__label sk-toggleable__label-arrow\">SimpleImputer</label><div class=\"sk-toggleable__content\"><pre>SimpleImputer(strategy=&#x27;constant&#x27;)</pre></div></div></div></div></div></div></div></div><div class=\"sk-item\"><div class=\"sk-estimator sk-toggleable\"><input class=\"sk-toggleable__control sk-hidden--visually\" id=\"sk-estimator-id-5\" type=\"checkbox\" ><label for=\"sk-estimator-id-5\" class=\"sk-toggleable__label sk-toggleable__label-arrow\">XGBRegressor</label><div class=\"sk-toggleable__content\"><pre>XGBRegressor(base_score=None, booster=None, callbacks=None,\n",
       "             colsample_bylevel=None, colsample_bynode=None,\n",
       "             colsample_bytree=None, early_stopping_rounds=5,\n",
       "             enable_categorical=False, eval_metric=None, feature_types=None,\n",
       "             gamma=None, gpu_id=None, grow_policy=None, importance_type=None,\n",
       "             interaction_constraints=None, learning_rate=0.05, max_bin=None,\n",
       "             max_cat_threshold=None, max_cat_to_onehot=None,\n",
       "             max_delta_step=None, max_depth=None, max_leaves=None,\n",
       "             min_child_weight=None, missing=nan, monotone_constraints=None,\n",
       "             n_estimators=1000, n_jobs=None, num_parallel_tree=None,\n",
       "             predictor=None, random_state=None, ...)</pre></div></div></div></div></div></div></div>"
      ],
      "text/plain": [
       "Pipeline(steps=[('preprocessor',\n",
       "                 ColumnTransformer(transformers=[('imputer',\n",
       "                                                  SimpleImputer(strategy='constant'),\n",
       "                                                  Index(['1960', '1961', '1962', '1963', '1964', '1965', '1966', '1967', '1968',\n",
       "       '1969', '1970', '1971', '1972', '1973', '1974', '1975', '1976', '1977',\n",
       "       '1978', '1979', '1980', '1981', '1982', '1983', '1984', '1985', '1986',\n",
       "       '1987', '1988', '1989', '1990', '1991', '1992', '1...\n",
       "                              feature_types=None, gamma=None, gpu_id=None,\n",
       "                              grow_policy=None, importance_type=None,\n",
       "                              interaction_constraints=None, learning_rate=0.05,\n",
       "                              max_bin=None, max_cat_threshold=None,\n",
       "                              max_cat_to_onehot=None, max_delta_step=None,\n",
       "                              max_depth=None, max_leaves=None,\n",
       "                              min_child_weight=None, missing=nan,\n",
       "                              monotone_constraints=None, n_estimators=1000,\n",
       "                              n_jobs=None, num_parallel_tree=None,\n",
       "                              predictor=None, random_state=None, ...))])"
      ]
     },
     "execution_count": 15,
     "metadata": {},
     "output_type": "execute_result"
    }
   ],
   "source": [
    "pipeline_xgboost.fit(X_train, y_train, **fit_params)"
   ]
  },
  {
   "cell_type": "code",
   "execution_count": 16,
   "id": "1d1c523e",
   "metadata": {
    "execution": {
     "iopub.execute_input": "2023-06-28T20:15:23.328039Z",
     "iopub.status.busy": "2023-06-28T20:15:23.327672Z",
     "iopub.status.idle": "2023-06-28T20:15:23.340135Z",
     "shell.execute_reply": "2023-06-28T20:15:23.339180Z"
    },
    "papermill": {
     "duration": 0.029415,
     "end_time": "2023-06-28T20:15:23.344400",
     "exception": false,
     "start_time": "2023-06-28T20:15:23.314985",
     "status": "completed"
    },
    "tags": []
   },
   "outputs": [],
   "source": [
    "predictions = pipeline_xgboost.predict(X_test)"
   ]
  },
  {
   "cell_type": "code",
   "execution_count": 17,
   "id": "c94a0358",
   "metadata": {
    "execution": {
     "iopub.execute_input": "2023-06-28T20:15:23.368860Z",
     "iopub.status.busy": "2023-06-28T20:15:23.368486Z",
     "iopub.status.idle": "2023-06-28T20:15:23.374372Z",
     "shell.execute_reply": "2023-06-28T20:15:23.373269Z"
    },
    "papermill": {
     "duration": 0.020191,
     "end_time": "2023-06-28T20:15:23.376792",
     "exception": false,
     "start_time": "2023-06-28T20:15:23.356601",
     "status": "completed"
    },
    "tags": []
   },
   "outputs": [],
   "source": [
    "mae = mean_absolute_error(y_test, predictions)\n",
    "mean_test = y_test.mean()\n",
    "mape = mae / mean_test * 100"
   ]
  },
  {
   "cell_type": "code",
   "execution_count": 18,
   "id": "ddef5aca",
   "metadata": {
    "execution": {
     "iopub.execute_input": "2023-06-28T20:15:23.400040Z",
     "iopub.status.busy": "2023-06-28T20:15:23.399677Z",
     "iopub.status.idle": "2023-06-28T20:15:23.405961Z",
     "shell.execute_reply": "2023-06-28T20:15:23.404901Z"
    },
    "papermill": {
     "duration": 0.020933,
     "end_time": "2023-06-28T20:15:23.408600",
     "exception": false,
     "start_time": "2023-06-28T20:15:23.387667",
     "status": "completed"
    },
    "tags": []
   },
   "outputs": [
    {
     "data": {
      "text/plain": [
       "2.9341675642676655"
      ]
     },
     "execution_count": 18,
     "metadata": {},
     "output_type": "execute_result"
    }
   ],
   "source": [
    "mape"
   ]
  },
  {
   "cell_type": "code",
   "execution_count": 19,
   "id": "5580f046",
   "metadata": {
    "execution": {
     "iopub.execute_input": "2023-06-28T20:15:23.432128Z",
     "iopub.status.busy": "2023-06-28T20:15:23.431757Z",
     "iopub.status.idle": "2023-06-28T20:15:23.438572Z",
     "shell.execute_reply": "2023-06-28T20:15:23.437775Z"
    },
    "papermill": {
     "duration": 0.02114,
     "end_time": "2023-06-28T20:15:23.440653",
     "exception": false,
     "start_time": "2023-06-28T20:15:23.419513",
     "status": "completed"
    },
    "tags": []
   },
   "outputs": [],
   "source": [
    "y_df = pd.DataFrame(y_test).reset_index(drop=True)\n",
    "pred_df = pd.DataFrame(predictions, columns=['2021'])\n",
    "compare = pd.concat([y_df, pred_df], axis=1, ignore_index=True)"
   ]
  },
  {
   "cell_type": "code",
   "execution_count": 20,
   "id": "85acba25",
   "metadata": {
    "execution": {
     "iopub.execute_input": "2023-06-28T20:15:23.464618Z",
     "iopub.status.busy": "2023-06-28T20:15:23.464145Z",
     "iopub.status.idle": "2023-06-28T20:15:23.469421Z",
     "shell.execute_reply": "2023-06-28T20:15:23.468306Z"
    },
    "papermill": {
     "duration": 0.02017,
     "end_time": "2023-06-28T20:15:23.471777",
     "exception": false,
     "start_time": "2023-06-28T20:15:23.451607",
     "status": "completed"
    },
    "tags": []
   },
   "outputs": [],
   "source": [
    "compare.columns = ['Actual', 'Prediction']"
   ]
  },
  {
   "cell_type": "code",
   "execution_count": 21,
   "id": "2b1904de",
   "metadata": {
    "execution": {
     "iopub.execute_input": "2023-06-28T20:15:23.494920Z",
     "iopub.status.busy": "2023-06-28T20:15:23.494527Z",
     "iopub.status.idle": "2023-06-28T20:15:23.824316Z",
     "shell.execute_reply": "2023-06-28T20:15:23.823309Z"
    },
    "papermill": {
     "duration": 0.344107,
     "end_time": "2023-06-28T20:15:23.826772",
     "exception": false,
     "start_time": "2023-06-28T20:15:23.482665",
     "status": "completed"
    },
    "tags": []
   },
   "outputs": [
    {
     "data": {
      "text/plain": [
       "<Axes: >"
      ]
     },
     "execution_count": 21,
     "metadata": {},
     "output_type": "execute_result"
    },
    {
     "data": {
      "image/png": "[encoded data removed]",
      "text/plain": [
       "<Figure size 640x480 with 1 Axes>"
      ]
     },
     "metadata": {},
     "output_type": "display_data"
    }
   ],
   "source": [
    "compare.plot()"
   ]
  }
 ],
 "metadata": {
  "kernelspec": {
   "display_name": "Python 3",
   "language": "python",
   "name": "python3"
  },
  "language_info": {
   "codemirror_mode": {
    "name": "ipython",
    "version": 3
   },
   "file_extension": ".py",
   "mimetype": "text/x-python",
   "name": "python",
   "nbconvert_exporter": "python",
   "pygments_lexer": "ipython3",
   "version": "3.10.10"
  },
  "papermill": {
   "default_parameters": {},
   "duration": 19.766287,
   "end_time": "2023-06-28T20:15:24.861465",
   "environment_variables": {},
   "exception": null,
   "input_path": "__notebook__.ipynb",
   "output_path": "__notebook__.ipynb",
   "parameters": {},
   "start_time": "2023-06-28T20:15:05.095178",
   "version": "2.4.0"
  }
 },
 "nbformat": 4,
 "nbformat_minor": 5
}
