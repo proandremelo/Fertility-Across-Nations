{
 "cells": [
  {
   "cell_type": "code",
   "execution_count": 1,
   "id": "e5909576",
   "metadata": {
    "_cell_guid": "b1076dfc-b9ad-4769-8c92-a6c4dae69d19",
    "_uuid": "8f2839f25d086af736a60e9eeb907d3b93b6e0e5",
    "execution": {
     "iopub.execute_input": "2023-06-28T20:21:09.539521Z",
     "iopub.status.busy": "2023-06-28T20:21:09.538681Z",
     "iopub.status.idle": "2023-06-28T20:21:09.563483Z",
     "shell.execute_reply": "2023-06-28T20:21:09.562223Z"
    },
    "papermill": {
     "duration": 0.04235,
     "end_time": "2023-06-28T20:21:09.566948",
     "exception": false,
     "start_time": "2023-06-28T20:21:09.524598",
     "status": "completed"
    },
    "tags": []
   },
   "outputs": [
    {
     "name": "stdout",
     "output_type": "stream",
     "text": [
      "/kaggle/input/fertility-rate-per-country/API_SP.DYN.TFRT.IN_DS2_en_csv_v2_5455118.csv\n"
     ]
    }
   ],
   "source": [
    "# This Python 3 environment comes with many helpful analytics libraries installed\n",
    "# It is defined by the kaggle/python Docker image: https://github.com/kaggle/docker-python\n",
    "# For example, here's several helpful packages to load\n",
    "\n",
    "import numpy as np # linear algebra\n",
    "import pandas as pd # data processing, CSV file I/O (e.g. pd.read_csv)\n",
    "\n",
    "# Input data files are available in the read-only \"../input/\" directory\n",
    "# For example, running this (by clicking run or pressing Shift+Enter) will list all files under the input directory\n",
    "\n",
    "import os\n",
    "for dirname, _, filenames in os.walk('/kaggle/input'):\n",
    "    for filename in filenames:\n",
    "        print(os.path.join(dirname, filename))\n",
    "\n",
    "# You can write up to 20GB to the current directory (/kaggle/working/) that gets preserved as output when you create a version using \"Save & Run All\" \n",
    "# You can also write temporary files to /kaggle/temp/, but they won't be saved outside of the current session"
   ]
  },
  {
   "cell_type": "code",
   "execution_count": 2,
   "id": "dda076bb",
   "metadata": {
    "execution": {
     "iopub.execute_input": "2023-06-28T20:21:09.592815Z",
     "iopub.status.busy": "2023-06-28T20:21:09.591468Z",
     "iopub.status.idle": "2023-06-28T20:21:09.627416Z",
     "shell.execute_reply": "2023-06-28T20:21:09.625949Z"
    },
    "papermill": {
     "duration": 0.051677,
     "end_time": "2023-06-28T20:21:09.630972",
     "exception": false,
     "start_time": "2023-06-28T20:21:09.579295",
     "status": "completed"
    },
    "tags": []
   },
   "outputs": [],
   "source": [
    "df = pd.read_csv('/kaggle/input/fertility-rate-per-country/API_SP.DYN.TFRT.IN_DS2_en_csv_v2_5455118.csv')"
   ]
  },
  {
   "cell_type": "code",
   "execution_count": 3,
   "id": "56e1e79f",
   "metadata": {
    "execution": {
     "iopub.execute_input": "2023-06-28T20:21:09.654694Z",
     "iopub.status.busy": "2023-06-28T20:21:09.654213Z",
     "iopub.status.idle": "2023-06-28T20:21:09.711469Z",
     "shell.execute_reply": "2023-06-28T20:21:09.710022Z"
    },
    "papermill": {
     "duration": 0.073968,
     "end_time": "2023-06-28T20:21:09.715594",
     "exception": false,
     "start_time": "2023-06-28T20:21:09.641626",
     "status": "completed"
    },
    "tags": []
   },
   "outputs": [
    {
     "data": {
      "text/html": [
       "<div>\n",
       "<style scoped>\n",
       "    .dataframe tbody tr th:only-of-type {\n",
       "        vertical-align: middle;\n",
       "    }\n",
       "\n",
       "    .dataframe tbody tr th {\n",
       "        vertical-align: top;\n",
       "    }\n",
       "\n",
       "    .dataframe thead th {\n",
       "        text-align: right;\n",
       "    }\n",
       "</style>\n",
       "<table border=\"1\" class=\"dataframe\">\n",
       "  <thead>\n",
       "    <tr style=\"text-align: right;\">\n",
       "      <th></th>\n",
       "      <th>Country Name</th>\n",
       "      <th>Country Code</th>\n",
       "      <th>1960</th>\n",
       "      <th>1961</th>\n",
       "      <th>1962</th>\n",
       "      <th>1963</th>\n",
       "      <th>1964</th>\n",
       "      <th>1965</th>\n",
       "      <th>1966</th>\n",
       "      <th>1967</th>\n",
       "      <th>...</th>\n",
       "      <th>2013</th>\n",
       "      <th>2014</th>\n",
       "      <th>2015</th>\n",
       "      <th>2016</th>\n",
       "      <th>2017</th>\n",
       "      <th>2018</th>\n",
       "      <th>2019</th>\n",
       "      <th>2020</th>\n",
       "      <th>2021</th>\n",
       "      <th>2022</th>\n",
       "    </tr>\n",
       "  </thead>\n",
       "  <tbody>\n",
       "    <tr>\n",
       "      <th>0</th>\n",
       "      <td>Aruba</td>\n",
       "      <td>ABW</td>\n",
       "      <td>4.820000</td>\n",
       "      <td>4.655000</td>\n",
       "      <td>4.471000</td>\n",
       "      <td>4.271000</td>\n",
       "      <td>4.059000</td>\n",
       "      <td>3.842000</td>\n",
       "      <td>3.625000</td>\n",
       "      <td>3.417000</td>\n",
       "      <td>...</td>\n",
       "      <td>2.117000</td>\n",
       "      <td>2.148000</td>\n",
       "      <td>1.972000</td>\n",
       "      <td>1.953000</td>\n",
       "      <td>1.839000</td>\n",
       "      <td>1.587000</td>\n",
       "      <td>1.486000</td>\n",
       "      <td>1.325000</td>\n",
       "      <td>1.180000</td>\n",
       "      <td>NaN</td>\n",
       "    </tr>\n",
       "    <tr>\n",
       "      <th>1</th>\n",
       "      <td>Africa Eastern and Southern</td>\n",
       "      <td>AFE</td>\n",
       "      <td>6.724125</td>\n",
       "      <td>6.742752</td>\n",
       "      <td>6.762930</td>\n",
       "      <td>6.778712</td>\n",
       "      <td>6.788420</td>\n",
       "      <td>6.800322</td>\n",
       "      <td>6.810571</td>\n",
       "      <td>6.818612</td>\n",
       "      <td>...</td>\n",
       "      <td>4.808821</td>\n",
       "      <td>4.739863</td>\n",
       "      <td>4.677619</td>\n",
       "      <td>4.615671</td>\n",
       "      <td>4.570410</td>\n",
       "      <td>4.527707</td>\n",
       "      <td>4.482899</td>\n",
       "      <td>4.416902</td>\n",
       "      <td>4.354710</td>\n",
       "      <td>NaN</td>\n",
       "    </tr>\n",
       "    <tr>\n",
       "      <th>2</th>\n",
       "      <td>Afghanistan</td>\n",
       "      <td>AFG</td>\n",
       "      <td>7.282000</td>\n",
       "      <td>7.284000</td>\n",
       "      <td>7.292000</td>\n",
       "      <td>7.302000</td>\n",
       "      <td>7.304000</td>\n",
       "      <td>7.305000</td>\n",
       "      <td>7.320000</td>\n",
       "      <td>7.339000</td>\n",
       "      <td>...</td>\n",
       "      <td>5.696000</td>\n",
       "      <td>5.560000</td>\n",
       "      <td>5.405000</td>\n",
       "      <td>5.262000</td>\n",
       "      <td>5.129000</td>\n",
       "      <td>5.002000</td>\n",
       "      <td>4.870000</td>\n",
       "      <td>4.750000</td>\n",
       "      <td>4.643000</td>\n",
       "      <td>NaN</td>\n",
       "    </tr>\n",
       "    <tr>\n",
       "      <th>3</th>\n",
       "      <td>Africa Western and Central</td>\n",
       "      <td>AFW</td>\n",
       "      <td>6.458448</td>\n",
       "      <td>6.471518</td>\n",
       "      <td>6.491826</td>\n",
       "      <td>6.506088</td>\n",
       "      <td>6.525355</td>\n",
       "      <td>6.541102</td>\n",
       "      <td>6.564967</td>\n",
       "      <td>6.589806</td>\n",
       "      <td>...</td>\n",
       "      <td>5.506350</td>\n",
       "      <td>5.437493</td>\n",
       "      <td>5.385059</td>\n",
       "      <td>5.328709</td>\n",
       "      <td>5.255345</td>\n",
       "      <td>5.186319</td>\n",
       "      <td>5.118932</td>\n",
       "      <td>5.049329</td>\n",
       "      <td>4.978662</td>\n",
       "      <td>NaN</td>\n",
       "    </tr>\n",
       "    <tr>\n",
       "      <th>4</th>\n",
       "      <td>Angola</td>\n",
       "      <td>AGO</td>\n",
       "      <td>6.708000</td>\n",
       "      <td>6.790000</td>\n",
       "      <td>6.872000</td>\n",
       "      <td>6.954000</td>\n",
       "      <td>7.036000</td>\n",
       "      <td>7.116000</td>\n",
       "      <td>7.194000</td>\n",
       "      <td>7.267000</td>\n",
       "      <td>...</td>\n",
       "      <td>5.953000</td>\n",
       "      <td>5.864000</td>\n",
       "      <td>5.774000</td>\n",
       "      <td>5.686000</td>\n",
       "      <td>5.600000</td>\n",
       "      <td>5.519000</td>\n",
       "      <td>5.442000</td>\n",
       "      <td>5.371000</td>\n",
       "      <td>5.304000</td>\n",
       "      <td>NaN</td>\n",
       "    </tr>\n",
       "  </tbody>\n",
       "</table>\n",
       "<p>5 rows × 65 columns</p>\n",
       "</div>"
      ],
      "text/plain": [
       "                  Country Name Country Code      1960      1961      1962  \\\n",
       "0                        Aruba          ABW  4.820000  4.655000  4.471000   \n",
       "1  Africa Eastern and Southern          AFE  6.724125  6.742752  6.762930   \n",
       "2                  Afghanistan          AFG  7.282000  7.284000  7.292000   \n",
       "3   Africa Western and Central          AFW  6.458448  6.471518  6.491826   \n",
       "4                       Angola          AGO  6.708000  6.790000  6.872000   \n",
       "\n",
       "       1963      1964      1965      1966      1967  ...      2013      2014  \\\n",
       "0  4.271000  4.059000  3.842000  3.625000  3.417000  ...  2.117000  2.148000   \n",
       "1  6.778712  6.788420  6.800322  6.810571  6.818612  ...  4.808821  4.739863   \n",
       "2  7.302000  7.304000  7.305000  7.320000  7.339000  ...  5.696000  5.560000   \n",
       "3  6.506088  6.525355  6.541102  6.564967  6.589806  ...  5.506350  5.437493   \n",
       "4  6.954000  7.036000  7.116000  7.194000  7.267000  ...  5.953000  5.864000   \n",
       "\n",
       "       2015      2016      2017      2018      2019      2020      2021  2022  \n",
       "0  1.972000  1.953000  1.839000  1.587000  1.486000  1.325000  1.180000   NaN  \n",
       "1  4.677619  4.615671  4.570410  4.527707  4.482899  4.416902  4.354710   NaN  \n",
       "2  5.405000  5.262000  5.129000  5.002000  4.870000  4.750000  4.643000   NaN  \n",
       "3  5.385059  5.328709  5.255345  5.186319  5.118932  5.049329  4.978662   NaN  \n",
       "4  5.774000  5.686000  5.600000  5.519000  5.442000  5.371000  5.304000   NaN  \n",
       "\n",
       "[5 rows x 65 columns]"
      ]
     },
     "execution_count": 3,
     "metadata": {},
     "output_type": "execute_result"
    }
   ],
   "source": [
    "df.head()"
   ]
  },
  {
   "cell_type": "code",
   "execution_count": 4,
   "id": "4eb2be5d",
   "metadata": {
    "execution": {
     "iopub.execute_input": "2023-06-28T20:21:09.738240Z",
     "iopub.status.busy": "2023-06-28T20:21:09.736640Z",
     "iopub.status.idle": "2023-06-28T20:21:09.746699Z",
     "shell.execute_reply": "2023-06-28T20:21:09.745228Z"
    },
    "papermill": {
     "duration": 0.024648,
     "end_time": "2023-06-28T20:21:09.749937",
     "exception": false,
     "start_time": "2023-06-28T20:21:09.725289",
     "status": "completed"
    },
    "tags": []
   },
   "outputs": [
    {
     "data": {
      "text/plain": [
       "Index(['Country Name', 'Country Code', '1960', '1961', '1962', '1963', '1964',\n",
       "       '1965', '1966', '1967', '1968', '1969', '1970', '1971', '1972', '1973',\n",
       "       '1974', '1975', '1976', '1977', '1978', '1979', '1980', '1981', '1982',\n",
       "       '1983', '1984', '1985', '1986', '1987', '1988', '1989', '1990', '1991',\n",
       "       '1992', '1993', '1994', '1995', '1996', '1997', '1998', '1999', '2000',\n",
       "       '2001', '2002', '2003', '2004', '2005', '2006', '2007', '2008', '2009',\n",
       "       '2010', '2011', '2012', '2013', '2014', '2015', '2016', '2017', '2018',\n",
       "       '2019', '2020', '2021', '2022'],\n",
       "      dtype='object')"
      ]
     },
     "execution_count": 4,
     "metadata": {},
     "output_type": "execute_result"
    }
   ],
   "source": [
    "df.columns"
   ]
  },
  {
   "cell_type": "code",
   "execution_count": 5,
   "id": "298fe949",
   "metadata": {
    "execution": {
     "iopub.execute_input": "2023-06-28T20:21:09.777483Z",
     "iopub.status.busy": "2023-06-28T20:21:09.776303Z",
     "iopub.status.idle": "2023-06-28T20:21:09.809327Z",
     "shell.execute_reply": "2023-06-28T20:21:09.807717Z"
    },
    "papermill": {
     "duration": 0.048481,
     "end_time": "2023-06-28T20:21:09.812395",
     "exception": false,
     "start_time": "2023-06-28T20:21:09.763914",
     "status": "completed"
    },
    "tags": []
   },
   "outputs": [
    {
     "data": {
      "text/html": [
       "<div>\n",
       "<style scoped>\n",
       "    .dataframe tbody tr th:only-of-type {\n",
       "        vertical-align: middle;\n",
       "    }\n",
       "\n",
       "    .dataframe tbody tr th {\n",
       "        vertical-align: top;\n",
       "    }\n",
       "\n",
       "    .dataframe thead th {\n",
       "        text-align: right;\n",
       "    }\n",
       "</style>\n",
       "<table border=\"1\" class=\"dataframe\">\n",
       "  <thead>\n",
       "    <tr style=\"text-align: right;\">\n",
       "      <th></th>\n",
       "      <th>Country Name</th>\n",
       "      <th>Country Code</th>\n",
       "      <th>1960</th>\n",
       "      <th>1961</th>\n",
       "      <th>1962</th>\n",
       "      <th>1963</th>\n",
       "      <th>1964</th>\n",
       "      <th>1965</th>\n",
       "      <th>1966</th>\n",
       "      <th>1967</th>\n",
       "      <th>...</th>\n",
       "      <th>2013</th>\n",
       "      <th>2014</th>\n",
       "      <th>2015</th>\n",
       "      <th>2016</th>\n",
       "      <th>2017</th>\n",
       "      <th>2018</th>\n",
       "      <th>2019</th>\n",
       "      <th>2020</th>\n",
       "      <th>2021</th>\n",
       "      <th>2022</th>\n",
       "    </tr>\n",
       "  </thead>\n",
       "  <tbody>\n",
       "    <tr>\n",
       "      <th>29</th>\n",
       "      <td>Brazil</td>\n",
       "      <td>BRA</td>\n",
       "      <td>6.061</td>\n",
       "      <td>6.044</td>\n",
       "      <td>5.995</td>\n",
       "      <td>5.929</td>\n",
       "      <td>5.818</td>\n",
       "      <td>5.675</td>\n",
       "      <td>5.529</td>\n",
       "      <td>5.368</td>\n",
       "      <td>...</td>\n",
       "      <td>1.748</td>\n",
       "      <td>1.767</td>\n",
       "      <td>1.777</td>\n",
       "      <td>1.709</td>\n",
       "      <td>1.736</td>\n",
       "      <td>1.749</td>\n",
       "      <td>1.703</td>\n",
       "      <td>1.649</td>\n",
       "      <td>1.641</td>\n",
       "      <td>NaN</td>\n",
       "    </tr>\n",
       "  </tbody>\n",
       "</table>\n",
       "<p>1 rows × 65 columns</p>\n",
       "</div>"
      ],
      "text/plain": [
       "   Country Name Country Code   1960   1961   1962   1963   1964   1965   1966  \\\n",
       "29       Brazil          BRA  6.061  6.044  5.995  5.929  5.818  5.675  5.529   \n",
       "\n",
       "     1967  ...   2013   2014   2015   2016   2017   2018   2019   2020   2021  \\\n",
       "29  5.368  ...  1.748  1.767  1.777  1.709  1.736  1.749  1.703  1.649  1.641   \n",
       "\n",
       "    2022  \n",
       "29   NaN  \n",
       "\n",
       "[1 rows x 65 columns]"
      ]
     },
     "execution_count": 5,
     "metadata": {},
     "output_type": "execute_result"
    }
   ],
   "source": [
    "df[df['Country Name'] == 'Brazil']"
   ]
  },
  {
   "cell_type": "markdown",
   "id": "50e456e2",
   "metadata": {
    "papermill": {
     "duration": 0.011101,
     "end_time": "2023-06-28T20:21:09.834888",
     "exception": false,
     "start_time": "2023-06-28T20:21:09.823787",
     "status": "completed"
    },
    "tags": []
   },
   "source": [
    "# Curiosidade: taxa de fecundidade nos países do BRICS(menos Russia)"
   ]
  },
  {
   "cell_type": "markdown",
   "id": "1382bc81",
   "metadata": {
    "papermill": {
     "duration": 0.011489,
     "end_time": "2023-06-28T20:21:09.857420",
     "exception": false,
     "start_time": "2023-06-28T20:21:09.845931",
     "status": "completed"
    },
    "tags": []
   },
   "source": [
    "**Os dados do país não estavam disponíveis\n",
    "**"
   ]
  },
  {
   "cell_type": "code",
   "execution_count": 6,
   "id": "42976434",
   "metadata": {
    "execution": {
     "iopub.execute_input": "2023-06-28T20:21:09.884340Z",
     "iopub.status.busy": "2023-06-28T20:21:09.882337Z",
     "iopub.status.idle": "2023-06-28T20:21:09.896998Z",
     "shell.execute_reply": "2023-06-28T20:21:09.895502Z"
    },
    "papermill": {
     "duration": 0.031675,
     "end_time": "2023-06-28T20:21:09.900752",
     "exception": false,
     "start_time": "2023-06-28T20:21:09.869077",
     "status": "completed"
    },
    "tags": []
   },
   "outputs": [],
   "source": [
    "brics = df[df['Country Name'].isin(['Brazil', 'China', 'India', 'South Africa'])].drop('Country Code', axis=1)"
   ]
  },
  {
   "cell_type": "code",
   "execution_count": 7,
   "id": "6aa866f2",
   "metadata": {
    "execution": {
     "iopub.execute_input": "2023-06-28T20:21:09.924212Z",
     "iopub.status.busy": "2023-06-28T20:21:09.923722Z",
     "iopub.status.idle": "2023-06-28T20:21:10.369492Z",
     "shell.execute_reply": "2023-06-28T20:21:10.368036Z"
    },
    "papermill": {
     "duration": 0.461876,
     "end_time": "2023-06-28T20:21:10.373083",
     "exception": false,
     "start_time": "2023-06-28T20:21:09.911207",
     "status": "completed"
    },
    "tags": []
   },
   "outputs": [
    {
     "data": {
      "text/plain": [
       "<Axes: >"
      ]
     },
     "execution_count": 7,
     "metadata": {},
     "output_type": "execute_result"
    },
    {
     "data": {
      "image/png": "[encoded data removed]",
      "text/plain": [
       "<Figure size 640x480 with 1 Axes>"
      ]
     },
     "metadata": {},
     "output_type": "display_data"
    }
   ],
   "source": [
    "brics.set_index('Country Name').T.plot()"
   ]
  },
  {
   "cell_type": "markdown",
   "id": "f6a3c90d",
   "metadata": {
    "papermill": {
     "duration": 0.010885,
     "end_time": "2023-06-28T20:21:10.395688",
     "exception": false,
     "start_time": "2023-06-28T20:21:10.384803",
     "status": "completed"
    },
    "tags": []
   },
   "source": [
    "# Separando os dados"
   ]
  },
  {
   "cell_type": "code",
   "execution_count": 8,
   "id": "75bb4f2a",
   "metadata": {
    "execution": {
     "iopub.execute_input": "2023-06-28T20:21:10.421330Z",
     "iopub.status.busy": "2023-06-28T20:21:10.420792Z",
     "iopub.status.idle": "2023-06-28T20:21:10.432020Z",
     "shell.execute_reply": "2023-06-28T20:21:10.430633Z"
    },
    "papermill": {
     "duration": 0.027241,
     "end_time": "2023-06-28T20:21:10.434718",
     "exception": false,
     "start_time": "2023-06-28T20:21:10.407477",
     "status": "completed"
    },
    "tags": []
   },
   "outputs": [],
   "source": [
    "filtered_df = df.dropna(subset=['2021'])\n",
    "X = filtered_df.drop(['Country Name', 'Country Code', '2021', '2022'], axis=1)\n",
    "y = filtered_df['2021']"
   ]
  },
  {
   "cell_type": "markdown",
   "id": "1aead0e5",
   "metadata": {
    "papermill": {
     "duration": 0.011135,
     "end_time": "2023-06-28T20:21:10.456782",
     "exception": false,
     "start_time": "2023-06-28T20:21:10.445647",
     "status": "completed"
    },
    "tags": []
   },
   "source": [
    "# Criando o Modelo"
   ]
  },
  {
   "cell_type": "code",
   "execution_count": 9,
   "id": "0e6a2f5c",
   "metadata": {
    "execution": {
     "iopub.execute_input": "2023-06-28T20:21:10.482133Z",
     "iopub.status.busy": "2023-06-28T20:21:10.481611Z",
     "iopub.status.idle": "2023-06-28T20:21:12.769998Z",
     "shell.execute_reply": "2023-06-28T20:21:12.768229Z"
    },
    "papermill": {
     "duration": 2.30569,
     "end_time": "2023-06-28T20:21:12.773857",
     "exception": false,
     "start_time": "2023-06-28T20:21:10.468167",
     "status": "completed"
    },
    "tags": []
   },
   "outputs": [],
   "source": [
    "from sklearn.pipeline import Pipeline\n",
    "from sklearn.impute import SimpleImputer\n",
    "from sklearn.ensemble import RandomForestRegressor\n",
    "from xgboost import XGBRegressor\n",
    "from sklearn.model_selection import cross_val_score, train_test_split\n",
    "from sklearn.metrics import mean_absolute_error\n",
    "from sklearn.compose import ColumnTransformer"
   ]
  },
  {
   "cell_type": "code",
   "execution_count": 10,
   "id": "02860a85",
   "metadata": {
    "execution": {
     "iopub.execute_input": "2023-06-28T20:21:12.798838Z",
     "iopub.status.busy": "2023-06-28T20:21:12.798361Z",
     "iopub.status.idle": "2023-06-28T20:21:12.805186Z",
     "shell.execute_reply": "2023-06-28T20:21:12.803852Z"
    },
    "papermill": {
     "duration": 0.022383,
     "end_time": "2023-06-28T20:21:12.807835",
     "exception": false,
     "start_time": "2023-06-28T20:21:12.785452",
     "status": "completed"
    },
    "tags": []
   },
   "outputs": [],
   "source": [
    "imputer = SimpleImputer(strategy='median')\n",
    "random_forest_regressor = RandomForestRegressor(random_state=0)\n",
    "pipeline_random_forest = Pipeline(steps=[\n",
    "    ('imputer', imputer),\n",
    "    ('model', random_forest_regressor)\n",
    "])"
   ]
  },
  {
   "cell_type": "markdown",
   "id": "1851a36f",
   "metadata": {
    "papermill": {
     "duration": 0.010331,
     "end_time": "2023-06-28T20:21:12.829050",
     "exception": false,
     "start_time": "2023-06-28T20:21:12.818719",
     "status": "completed"
    },
    "tags": []
   },
   "source": [
    "# Avaliando o modelo com Cross-Validation"
   ]
  },
  {
   "cell_type": "code",
   "execution_count": 11,
   "id": "98052a78",
   "metadata": {
    "execution": {
     "iopub.execute_input": "2023-06-28T20:21:12.852608Z",
     "iopub.status.busy": "2023-06-28T20:21:12.852133Z",
     "iopub.status.idle": "2023-06-28T20:21:16.114738Z",
     "shell.execute_reply": "2023-06-28T20:21:16.113495Z"
    },
    "papermill": {
     "duration": 3.278012,
     "end_time": "2023-06-28T20:21:16.117844",
     "exception": false,
     "start_time": "2023-06-28T20:21:12.839832",
     "status": "completed"
    },
    "tags": []
   },
   "outputs": [],
   "source": [
    "scores = -1 * cross_val_score(pipeline_random_forest, X, y, cv=5, scoring='neg_mean_absolute_error')"
   ]
  },
  {
   "cell_type": "code",
   "execution_count": 12,
   "id": "d8f39890",
   "metadata": {
    "execution": {
     "iopub.execute_input": "2023-06-28T20:21:16.141629Z",
     "iopub.status.busy": "2023-06-28T20:21:16.141164Z",
     "iopub.status.idle": "2023-06-28T20:21:16.148927Z",
     "shell.execute_reply": "2023-06-28T20:21:16.147584Z"
    },
    "papermill": {
     "duration": 0.02314,
     "end_time": "2023-06-28T20:21:16.151628",
     "exception": false,
     "start_time": "2023-06-28T20:21:16.128488",
     "status": "completed"
    },
    "tags": []
   },
   "outputs": [
    {
     "data": {
      "text/plain": [
       "0.07220890822412192"
      ]
     },
     "execution_count": 12,
     "metadata": {},
     "output_type": "execute_result"
    }
   ],
   "source": [
    "scores.mean()"
   ]
  },
  {
   "cell_type": "markdown",
   "id": "35d17f82",
   "metadata": {
    "papermill": {
     "duration": 0.010639,
     "end_time": "2023-06-28T20:21:16.172942",
     "exception": false,
     "start_time": "2023-06-28T20:21:16.162303",
     "status": "completed"
    },
    "tags": []
   },
   "source": [
    "# Prevendo os valores de 2021"
   ]
  },
  {
   "cell_type": "code",
   "execution_count": 13,
   "id": "6cab0363",
   "metadata": {
    "execution": {
     "iopub.execute_input": "2023-06-28T20:21:16.196962Z",
     "iopub.status.busy": "2023-06-28T20:21:16.196523Z",
     "iopub.status.idle": "2023-06-28T20:21:16.203469Z",
     "shell.execute_reply": "2023-06-28T20:21:16.202502Z"
    },
    "papermill": {
     "duration": 0.022122,
     "end_time": "2023-06-28T20:21:16.205968",
     "exception": false,
     "start_time": "2023-06-28T20:21:16.183846",
     "status": "completed"
    },
    "tags": []
   },
   "outputs": [],
   "source": [
    "X_train, X_test, y_train, y_test = train_test_split(X, y, train_size=0.8, random_state=0)"
   ]
  },
  {
   "cell_type": "code",
   "execution_count": 14,
   "id": "cb5e6060",
   "metadata": {
    "execution": {
     "iopub.execute_input": "2023-06-28T20:21:16.229639Z",
     "iopub.status.busy": "2023-06-28T20:21:16.228681Z",
     "iopub.status.idle": "2023-06-28T20:21:16.251571Z",
     "shell.execute_reply": "2023-06-28T20:21:16.250306Z"
    },
    "papermill": {
     "duration": 0.037839,
     "end_time": "2023-06-28T20:21:16.254386",
     "exception": false,
     "start_time": "2023-06-28T20:21:16.216547",
     "status": "completed"
    },
    "tags": []
   },
   "outputs": [],
   "source": [
    "xgb_regressor = XGBRegressor(n_estimators=1000, early_stopping_rounds=5, learning_rate=0.05, random_state=0)\n",
    "preprocessor = ColumnTransformer(transformers=[\n",
    "    ('imputer', imputer, X_train.columns)\n",
    "])\n",
    "preprocessor.fit_transform(X_train)\n",
    "X_test_trans = preprocessor.transform(X_test)\n",
    "fit_params = {\n",
    "    'model__eval_set': [(X_test_trans, y_test)],\n",
    "    'model__verbose': False\n",
    "}\n",
    "pipeline_xgboost = Pipeline(steps=[\n",
    "    ('preprocessor', preprocessor),\n",
    "    ('model', xgb_regressor)\n",
    "\n",
    "])"
   ]
  },
  {
   "cell_type": "code",
   "execution_count": 15,
   "id": "5722c8bb",
   "metadata": {
    "execution": {
     "iopub.execute_input": "2023-06-28T20:21:16.278473Z",
     "iopub.status.busy": "2023-06-28T20:21:16.277633Z",
     "iopub.status.idle": "2023-06-28T20:21:16.590895Z",
     "shell.execute_reply": "2023-06-28T20:21:16.589678Z"
    },
    "papermill": {
     "duration": 0.328192,
     "end_time": "2023-06-28T20:21:16.593746",
     "exception": false,
     "start_time": "2023-06-28T20:21:16.265554",
     "status": "completed"
    },
    "tags": []
   },
   "outputs": [
    {
     "data": {
      "text/html": [
       "<style>#sk-container-id-1 {color: black;background-color: white;}#sk-container-id-1 pre{padding: 0;}#sk-container-id-1 div.sk-toggleable {background-color: white;}#sk-container-id-1 label.sk-toggleable__label {cursor: pointer;display: block;width: 100%;margin-bottom: 0;padding: 0.3em;box-sizing: border-box;text-align: center;}#sk-container-id-1 label.sk-toggleable__label-arrow:before {content: \"▸\";float: left;margin-right: 0.25em;color: #696969;}#sk-container-id-1 label.sk-toggleable__label-arrow:hover:before {color: black;}#sk-container-id-1 div.sk-estimator:hover label.sk-toggleable__label-arrow:before {color: black;}#sk-container-id-1 div.sk-toggleable__content {max-height: 0;max-width: 0;overflow: hidden;text-align: left;background-color: #f0f8ff;}#sk-container-id-1 div.sk-toggleable__content pre {margin: 0.2em;color: black;border-radius: 0.25em;background-color: #f0f8ff;}#sk-container-id-1 input.sk-toggleable__control:checked~div.sk-toggleable__content {max-height: 200px;max-width: 100%;overflow: auto;}#sk-container-id-1 input.sk-toggleable__control:checked~label.sk-toggleable__label-arrow:before {content: \"▾\";}#sk-container-id-1 div.sk-estimator input.sk-toggleable__control:checked~label.sk-toggleable__label {background-color: #d4ebff;}#sk-container-id-1 div.sk-label input.sk-toggleable__control:checked~label.sk-toggleable__label {background-color: #d4ebff;}#sk-container-id-1 input.sk-hidden--visually {border: 0;clip: rect(1px 1px 1px 1px);clip: rect(1px, 1px, 1px, 1px);height: 1px;margin: -1px;overflow: hidden;padding: 0;position: absolute;width: 1px;}#sk-container-id-1 div.sk-estimator {font-family: monospace;background-color: #f0f8ff;border: 1px dotted black;border-radius: 0.25em;box-sizing: border-box;margin-bottom: 0.5em;}#sk-container-id-1 div.sk-estimator:hover {background-color: #d4ebff;}#sk-container-id-1 div.sk-parallel-item::after {content: \"\";width: 100%;border-bottom: 1px solid gray;flex-grow: 1;}#sk-container-id-1 div.sk-label:hover label.sk-toggleable__label {background-color: #d4ebff;}#sk-container-id-1 div.sk-serial::before {content: \"\";position: absolute;border-left: 1px solid gray;box-sizing: border-box;top: 0;bottom: 0;left: 50%;z-index: 0;}#sk-container-id-1 div.sk-serial {display: flex;flex-direction: column;align-items: center;background-color: white;padding-right: 0.2em;padding-left: 0.2em;position: relative;}#sk-container-id-1 div.sk-item {position: relative;z-index: 1;}#sk-container-id-1 div.sk-parallel {display: flex;align-items: stretch;justify-content: center;background-color: white;position: relative;}#sk-container-id-1 div.sk-item::before, #sk-container-id-1 div.sk-parallel-item::before {content: \"\";position: absolute;border-left: 1px solid gray;box-sizing: border-box;top: 0;bottom: 0;left: 50%;z-index: -1;}#sk-container-id-1 div.sk-parallel-item {display: flex;flex-direction: column;z-index: 1;position: relative;background-color: white;}#sk-container-id-1 div.sk-parallel-item:first-child::after {align-self: flex-end;width: 50%;}#sk-container-id-1 div.sk-parallel-item:last-child::after {align-self: flex-start;width: 50%;}#sk-container-id-1 div.sk-parallel-item:only-child::after {width: 0;}#sk-container-id-1 div.sk-dashed-wrapped {border: 1px dashed gray;margin: 0 0.4em 0.5em 0.4em;box-sizing: border-box;padding-bottom: 0.4em;background-color: white;}#sk-container-id-1 div.sk-label label {font-family: monospace;font-weight: bold;display: inline-block;line-height: 1.2em;}#sk-container-id-1 div.sk-label-container {text-align: center;}#sk-container-id-1 div.sk-container {/* jupyter's `normalize.less` sets `[hidden] { display: none; }` but bootstrap.min.css set `[hidden] { display: none !important; }` so we also need the `!important` here to be able to override the default hidden behavior on the sphinx rendered scikit-learn.org. See: https://github.com/scikit-learn/scikit-learn/issues/21755 */display: inline-block !important;position: relative;}#sk-container-id-1 div.sk-text-repr-fallback {display: none;}</style><div id=\"sk-container-id-1\" class=\"sk-top-container\"><div class=\"sk-text-repr-fallback\"><pre>Pipeline(steps=[(&#x27;preprocessor&#x27;,\n",
       "                 ColumnTransformer(transformers=[(&#x27;imputer&#x27;,\n",
       "                                                  SimpleImputer(strategy=&#x27;median&#x27;),\n",
       "                                                  Index([&#x27;1960&#x27;, &#x27;1961&#x27;, &#x27;1962&#x27;, &#x27;1963&#x27;, &#x27;1964&#x27;, &#x27;1965&#x27;, &#x27;1966&#x27;, &#x27;1967&#x27;, &#x27;1968&#x27;,\n",
       "       &#x27;1969&#x27;, &#x27;1970&#x27;, &#x27;1971&#x27;, &#x27;1972&#x27;, &#x27;1973&#x27;, &#x27;1974&#x27;, &#x27;1975&#x27;, &#x27;1976&#x27;, &#x27;1977&#x27;,\n",
       "       &#x27;1978&#x27;, &#x27;1979&#x27;, &#x27;1980&#x27;, &#x27;1981&#x27;, &#x27;1982&#x27;, &#x27;1983&#x27;, &#x27;1984&#x27;, &#x27;1985&#x27;, &#x27;1986&#x27;,\n",
       "       &#x27;1987&#x27;, &#x27;1988&#x27;, &#x27;1989&#x27;, &#x27;1990&#x27;, &#x27;1991&#x27;, &#x27;1992&#x27;, &#x27;199...\n",
       "                              feature_types=None, gamma=None, gpu_id=None,\n",
       "                              grow_policy=None, importance_type=None,\n",
       "                              interaction_constraints=None, learning_rate=0.05,\n",
       "                              max_bin=None, max_cat_threshold=None,\n",
       "                              max_cat_to_onehot=None, max_delta_step=None,\n",
       "                              max_depth=None, max_leaves=None,\n",
       "                              min_child_weight=None, missing=nan,\n",
       "                              monotone_constraints=None, n_estimators=1000,\n",
       "                              n_jobs=None, num_parallel_tree=None,\n",
       "                              predictor=None, random_state=0, ...))])</pre><b>In a Jupyter environment, please rerun this cell to show the HTML representation or trust the notebook. <br />On GitHub, the HTML representation is unable to render, please try loading this page with nbviewer.org.</b></div><div class=\"sk-container\" hidden><div class=\"sk-item sk-dashed-wrapped\"><div class=\"sk-label-container\"><div class=\"sk-label sk-toggleable\"><input class=\"sk-toggleable__control sk-hidden--visually\" id=\"sk-estimator-id-1\" type=\"checkbox\" ><label for=\"sk-estimator-id-1\" class=\"sk-toggleable__label sk-toggleable__label-arrow\">Pipeline</label><div class=\"sk-toggleable__content\"><pre>Pipeline(steps=[(&#x27;preprocessor&#x27;,\n",
       "                 ColumnTransformer(transformers=[(&#x27;imputer&#x27;,\n",
       "                                                  SimpleImputer(strategy=&#x27;median&#x27;),\n",
       "                                                  Index([&#x27;1960&#x27;, &#x27;1961&#x27;, &#x27;1962&#x27;, &#x27;1963&#x27;, &#x27;1964&#x27;, &#x27;1965&#x27;, &#x27;1966&#x27;, &#x27;1967&#x27;, &#x27;1968&#x27;,\n",
       "       &#x27;1969&#x27;, &#x27;1970&#x27;, &#x27;1971&#x27;, &#x27;1972&#x27;, &#x27;1973&#x27;, &#x27;1974&#x27;, &#x27;1975&#x27;, &#x27;1976&#x27;, &#x27;1977&#x27;,\n",
       "       &#x27;1978&#x27;, &#x27;1979&#x27;, &#x27;1980&#x27;, &#x27;1981&#x27;, &#x27;1982&#x27;, &#x27;1983&#x27;, &#x27;1984&#x27;, &#x27;1985&#x27;, &#x27;1986&#x27;,\n",
       "       &#x27;1987&#x27;, &#x27;1988&#x27;, &#x27;1989&#x27;, &#x27;1990&#x27;, &#x27;1991&#x27;, &#x27;1992&#x27;, &#x27;199...\n",
       "                              feature_types=None, gamma=None, gpu_id=None,\n",
       "                              grow_policy=None, importance_type=None,\n",
       "                              interaction_constraints=None, learning_rate=0.05,\n",
       "                              max_bin=None, max_cat_threshold=None,\n",
       "                              max_cat_to_onehot=None, max_delta_step=None,\n",
       "                              max_depth=None, max_leaves=None,\n",
       "                              min_child_weight=None, missing=nan,\n",
       "                              monotone_constraints=None, n_estimators=1000,\n",
       "                              n_jobs=None, num_parallel_tree=None,\n",
       "                              predictor=None, random_state=0, ...))])</pre></div></div></div><div class=\"sk-serial\"><div class=\"sk-item sk-dashed-wrapped\"><div class=\"sk-label-container\"><div class=\"sk-label sk-toggleable\"><input class=\"sk-toggleable__control sk-hidden--visually\" id=\"sk-estimator-id-2\" type=\"checkbox\" ><label for=\"sk-estimator-id-2\" class=\"sk-toggleable__label sk-toggleable__label-arrow\">preprocessor: ColumnTransformer</label><div class=\"sk-toggleable__content\"><pre>ColumnTransformer(transformers=[(&#x27;imputer&#x27;, SimpleImputer(strategy=&#x27;median&#x27;),\n",
       "                                 Index([&#x27;1960&#x27;, &#x27;1961&#x27;, &#x27;1962&#x27;, &#x27;1963&#x27;, &#x27;1964&#x27;, &#x27;1965&#x27;, &#x27;1966&#x27;, &#x27;1967&#x27;, &#x27;1968&#x27;,\n",
       "       &#x27;1969&#x27;, &#x27;1970&#x27;, &#x27;1971&#x27;, &#x27;1972&#x27;, &#x27;1973&#x27;, &#x27;1974&#x27;, &#x27;1975&#x27;, &#x27;1976&#x27;, &#x27;1977&#x27;,\n",
       "       &#x27;1978&#x27;, &#x27;1979&#x27;, &#x27;1980&#x27;, &#x27;1981&#x27;, &#x27;1982&#x27;, &#x27;1983&#x27;, &#x27;1984&#x27;, &#x27;1985&#x27;, &#x27;1986&#x27;,\n",
       "       &#x27;1987&#x27;, &#x27;1988&#x27;, &#x27;1989&#x27;, &#x27;1990&#x27;, &#x27;1991&#x27;, &#x27;1992&#x27;, &#x27;1993&#x27;, &#x27;1994&#x27;, &#x27;1995&#x27;,\n",
       "       &#x27;1996&#x27;, &#x27;1997&#x27;, &#x27;1998&#x27;, &#x27;1999&#x27;, &#x27;2000&#x27;, &#x27;2001&#x27;, &#x27;2002&#x27;, &#x27;2003&#x27;, &#x27;2004&#x27;,\n",
       "       &#x27;2005&#x27;, &#x27;2006&#x27;, &#x27;2007&#x27;, &#x27;2008&#x27;, &#x27;2009&#x27;, &#x27;2010&#x27;, &#x27;2011&#x27;, &#x27;2012&#x27;, &#x27;2013&#x27;,\n",
       "       &#x27;2014&#x27;, &#x27;2015&#x27;, &#x27;2016&#x27;, &#x27;2017&#x27;, &#x27;2018&#x27;, &#x27;2019&#x27;, &#x27;2020&#x27;],\n",
       "      dtype=&#x27;object&#x27;))])</pre></div></div></div><div class=\"sk-parallel\"><div class=\"sk-parallel-item\"><div class=\"sk-item\"><div class=\"sk-label-container\"><div class=\"sk-label sk-toggleable\"><input class=\"sk-toggleable__control sk-hidden--visually\" id=\"sk-estimator-id-3\" type=\"checkbox\" ><label for=\"sk-estimator-id-3\" class=\"sk-toggleable__label sk-toggleable__label-arrow\">imputer</label><div class=\"sk-toggleable__content\"><pre>Index([&#x27;1960&#x27;, &#x27;1961&#x27;, &#x27;1962&#x27;, &#x27;1963&#x27;, &#x27;1964&#x27;, &#x27;1965&#x27;, &#x27;1966&#x27;, &#x27;1967&#x27;, &#x27;1968&#x27;,\n",
       "       &#x27;1969&#x27;, &#x27;1970&#x27;, &#x27;1971&#x27;, &#x27;1972&#x27;, &#x27;1973&#x27;, &#x27;1974&#x27;, &#x27;1975&#x27;, &#x27;1976&#x27;, &#x27;1977&#x27;,\n",
       "       &#x27;1978&#x27;, &#x27;1979&#x27;, &#x27;1980&#x27;, &#x27;1981&#x27;, &#x27;1982&#x27;, &#x27;1983&#x27;, &#x27;1984&#x27;, &#x27;1985&#x27;, &#x27;1986&#x27;,\n",
       "       &#x27;1987&#x27;, &#x27;1988&#x27;, &#x27;1989&#x27;, &#x27;1990&#x27;, &#x27;1991&#x27;, &#x27;1992&#x27;, &#x27;1993&#x27;, &#x27;1994&#x27;, &#x27;1995&#x27;,\n",
       "       &#x27;1996&#x27;, &#x27;1997&#x27;, &#x27;1998&#x27;, &#x27;1999&#x27;, &#x27;2000&#x27;, &#x27;2001&#x27;, &#x27;2002&#x27;, &#x27;2003&#x27;, &#x27;2004&#x27;,\n",
       "       &#x27;2005&#x27;, &#x27;2006&#x27;, &#x27;2007&#x27;, &#x27;2008&#x27;, &#x27;2009&#x27;, &#x27;2010&#x27;, &#x27;2011&#x27;, &#x27;2012&#x27;, &#x27;2013&#x27;,\n",
       "       &#x27;2014&#x27;, &#x27;2015&#x27;, &#x27;2016&#x27;, &#x27;2017&#x27;, &#x27;2018&#x27;, &#x27;2019&#x27;, &#x27;2020&#x27;],\n",
       "      dtype=&#x27;object&#x27;)</pre></div></div></div><div class=\"sk-serial\"><div class=\"sk-item\"><div class=\"sk-estimator sk-toggleable\"><input class=\"sk-toggleable__control sk-hidden--visually\" id=\"sk-estimator-id-4\" type=\"checkbox\" ><label for=\"sk-estimator-id-4\" class=\"sk-toggleable__label sk-toggleable__label-arrow\">SimpleImputer</label><div class=\"sk-toggleable__content\"><pre>SimpleImputer(strategy=&#x27;median&#x27;)</pre></div></div></div></div></div></div></div></div><div class=\"sk-item\"><div class=\"sk-estimator sk-toggleable\"><input class=\"sk-toggleable__control sk-hidden--visually\" id=\"sk-estimator-id-5\" type=\"checkbox\" ><label for=\"sk-estimator-id-5\" class=\"sk-toggleable__label sk-toggleable__label-arrow\">XGBRegressor</label><div class=\"sk-toggleable__content\"><pre>XGBRegressor(base_score=None, booster=None, callbacks=None,\n",
       "             colsample_bylevel=None, colsample_bynode=None,\n",
       "             colsample_bytree=None, early_stopping_rounds=5,\n",
       "             enable_categorical=False, eval_metric=None, feature_types=None,\n",
       "             gamma=None, gpu_id=None, grow_policy=None, importance_type=None,\n",
       "             interaction_constraints=None, learning_rate=0.05, max_bin=None,\n",
       "             max_cat_threshold=None, max_cat_to_onehot=None,\n",
       "             max_delta_step=None, max_depth=None, max_leaves=None,\n",
       "             min_child_weight=None, missing=nan, monotone_constraints=None,\n",
       "             n_estimators=1000, n_jobs=None, num_parallel_tree=None,\n",
       "             predictor=None, random_state=0, ...)</pre></div></div></div></div></div></div></div>"
      ],
      "text/plain": [
       "Pipeline(steps=[('preprocessor',\n",
       "                 ColumnTransformer(transformers=[('imputer',\n",
       "                                                  SimpleImputer(strategy='median'),\n",
       "                                                  Index(['1960', '1961', '1962', '1963', '1964', '1965', '1966', '1967', '1968',\n",
       "       '1969', '1970', '1971', '1972', '1973', '1974', '1975', '1976', '1977',\n",
       "       '1978', '1979', '1980', '1981', '1982', '1983', '1984', '1985', '1986',\n",
       "       '1987', '1988', '1989', '1990', '1991', '1992', '199...\n",
       "                              feature_types=None, gamma=None, gpu_id=None,\n",
       "                              grow_policy=None, importance_type=None,\n",
       "                              interaction_constraints=None, learning_rate=0.05,\n",
       "                              max_bin=None, max_cat_threshold=None,\n",
       "                              max_cat_to_onehot=None, max_delta_step=None,\n",
       "                              max_depth=None, max_leaves=None,\n",
       "                              min_child_weight=None, missing=nan,\n",
       "                              monotone_constraints=None, n_estimators=1000,\n",
       "                              n_jobs=None, num_parallel_tree=None,\n",
       "                              predictor=None, random_state=0, ...))])"
      ]
     },
     "execution_count": 15,
     "metadata": {},
     "output_type": "execute_result"
    }
   ],
   "source": [
    "pipeline_xgboost.fit(X_train, y_train, **fit_params)"
   ]
  },
  {
   "cell_type": "code",
   "execution_count": 16,
   "id": "abf54b41",
   "metadata": {
    "execution": {
     "iopub.execute_input": "2023-06-28T20:21:16.618783Z",
     "iopub.status.busy": "2023-06-28T20:21:16.618164Z",
     "iopub.status.idle": "2023-06-28T20:21:16.631451Z",
     "shell.execute_reply": "2023-06-28T20:21:16.630125Z"
    },
    "papermill": {
     "duration": 0.02963,
     "end_time": "2023-06-28T20:21:16.635077",
     "exception": false,
     "start_time": "2023-06-28T20:21:16.605447",
     "status": "completed"
    },
    "tags": []
   },
   "outputs": [],
   "source": [
    "predictions = pipeline_xgboost.predict(X_test)"
   ]
  },
  {
   "cell_type": "code",
   "execution_count": 17,
   "id": "bccc0703",
   "metadata": {
    "execution": {
     "iopub.execute_input": "2023-06-28T20:21:16.660479Z",
     "iopub.status.busy": "2023-06-28T20:21:16.660031Z",
     "iopub.status.idle": "2023-06-28T20:21:16.666979Z",
     "shell.execute_reply": "2023-06-28T20:21:16.665811Z"
    },
    "papermill": {
     "duration": 0.022012,
     "end_time": "2023-06-28T20:21:16.669386",
     "exception": false,
     "start_time": "2023-06-28T20:21:16.647374",
     "status": "completed"
    },
    "tags": []
   },
   "outputs": [],
   "source": [
    "mae = mean_absolute_error(y_test, predictions)\n",
    "mean_test = y_test.mean()\n",
    "mape = mae / mean_test * 100"
   ]
  },
  {
   "cell_type": "code",
   "execution_count": 18,
   "id": "11d19a9f",
   "metadata": {
    "execution": {
     "iopub.execute_input": "2023-06-28T20:21:16.694697Z",
     "iopub.status.busy": "2023-06-28T20:21:16.693438Z",
     "iopub.status.idle": "2023-06-28T20:21:16.700272Z",
     "shell.execute_reply": "2023-06-28T20:21:16.699350Z"
    },
    "papermill": {
     "duration": 0.022054,
     "end_time": "2023-06-28T20:21:16.702543",
     "exception": false,
     "start_time": "2023-06-28T20:21:16.680489",
     "status": "completed"
    },
    "tags": []
   },
   "outputs": [
    {
     "data": {
      "text/plain": [
       "2.376955626434833"
      ]
     },
     "execution_count": 18,
     "metadata": {},
     "output_type": "execute_result"
    }
   ],
   "source": [
    "mape"
   ]
  },
  {
   "cell_type": "code",
   "execution_count": 19,
   "id": "ebea402f",
   "metadata": {
    "execution": {
     "iopub.execute_input": "2023-06-28T20:21:16.727798Z",
     "iopub.status.busy": "2023-06-28T20:21:16.727013Z",
     "iopub.status.idle": "2023-06-28T20:21:16.734357Z",
     "shell.execute_reply": "2023-06-28T20:21:16.733413Z"
    },
    "papermill": {
     "duration": 0.023208,
     "end_time": "2023-06-28T20:21:16.737008",
     "exception": false,
     "start_time": "2023-06-28T20:21:16.713800",
     "status": "completed"
    },
    "tags": []
   },
   "outputs": [],
   "source": [
    "y_df = pd.DataFrame(y_test).reset_index(drop=True)\n",
    "pred_df = pd.DataFrame(predictions, columns=['2021'])\n",
    "compare = pd.concat([y_df, pred_df], axis=1, ignore_index=True)"
   ]
  },
  {
   "cell_type": "code",
   "execution_count": 20,
   "id": "ece3c42b",
   "metadata": {
    "execution": {
     "iopub.execute_input": "2023-06-28T20:21:16.762347Z",
     "iopub.status.busy": "2023-06-28T20:21:16.761559Z",
     "iopub.status.idle": "2023-06-28T20:21:16.767463Z",
     "shell.execute_reply": "2023-06-28T20:21:16.766235Z"
    },
    "papermill": {
     "duration": 0.022174,
     "end_time": "2023-06-28T20:21:16.770402",
     "exception": false,
     "start_time": "2023-06-28T20:21:16.748228",
     "status": "completed"
    },
    "tags": []
   },
   "outputs": [],
   "source": [
    "compare.columns = ['Actual', 'Prediction']"
   ]
  },
  {
   "cell_type": "code",
   "execution_count": 21,
   "id": "352522bd",
   "metadata": {
    "execution": {
     "iopub.execute_input": "2023-06-28T20:21:16.796953Z",
     "iopub.status.busy": "2023-06-28T20:21:16.796462Z",
     "iopub.status.idle": "2023-06-28T20:21:17.091809Z",
     "shell.execute_reply": "2023-06-28T20:21:17.090446Z"
    },
    "papermill": {
     "duration": 0.312739,
     "end_time": "2023-06-28T20:21:17.094496",
     "exception": false,
     "start_time": "2023-06-28T20:21:16.781757",
     "status": "completed"
    },
    "tags": []
   },
   "outputs": [
    {
     "data": {
      "text/plain": [
       "<Axes: >"
      ]
     },
     "execution_count": 21,
     "metadata": {},
     "output_type": "execute_result"
    },
    {
     "data": {
      "image/png": "[encoded data removed]",
      "text/plain": [
       "<Figure size 640x480 with 1 Axes>"
      ]
     },
     "metadata": {},
     "output_type": "display_data"
    }
   ],
   "source": [
    "compare.plot()"
   ]
  }
 ],
 "metadata": {
  "kernelspec": {
   "display_name": "Python 3",
   "language": "python",
   "name": "python3"
  },
  "language_info": {
   "codemirror_mode": {
    "name": "ipython",
    "version": 3
   },
   "file_extension": ".py",
   "mimetype": "text/x-python",
   "name": "python",
   "nbconvert_exporter": "python",
   "pygments_lexer": "ipython3",
   "version": "3.10.10"
  },
  "papermill": {
   "default_parameters": {},
   "duration": 24.660607,
   "end_time": "2023-06-28T20:21:18.231427",
   "environment_variables": {},
   "exception": null,
   "input_path": "__notebook__.ipynb",
   "output_path": "__notebook__.ipynb",
   "parameters": {},
   "start_time": "2023-06-28T20:20:53.570820",
   "version": "2.4.0"
  }
 },
 "nbformat": 4,
 "nbformat_minor": 5
}
